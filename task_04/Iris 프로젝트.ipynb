{
 "cells": [
  {
   "cell_type": "markdown",
   "id": "d912e459",
   "metadata": {},
   "source": [
    "# 프로젝트1. load_digits - 손글씨 분류"
   ]
  },
  {
   "cell_type": "markdown",
   "id": "f06d9673",
   "metadata": {},
   "source": [
    "## (1) 모듈 import"
   ]
  },
  {
   "cell_type": "code",
   "execution_count": null,
   "id": "f673b826",
   "metadata": {
    "is_executing": true
   },
   "outputs": [],
   "source": [
    "from sklearn.datasets import load_digits\n",
    "from sklearn.model_selection import train_test_split\n",
    "from sklearn.tree import DecisionTreeClassifier\n",
    "from sklearn.metrics import classification_report"
   ]
  },
  {
   "cell_type": "markdown",
   "id": "6a3757e2",
   "metadata": {},
   "source": [
    "## (2) 데이터 준비"
   ]
  },
  {
   "cell_type": "code",
   "execution_count": 2,
   "id": "5945b6c2",
   "metadata": {},
   "outputs": [
    {
     "data": {
      "text/plain": [
       "dict_keys(['data', 'target', 'frame', 'feature_names', 'target_names', 'images', 'DESCR'])"
      ]
     },
     "execution_count": 2,
     "metadata": {},
     "output_type": "execute_result"
    }
   ],
   "source": [
    "digit = load_digits() #iris 데이터 전체를 불러온다.\n",
    "digit.keys() #iris 데이터에 담긴 정보 확인"
   ]
  },
  {
   "cell_type": "markdown",
   "id": "ed641fdd",
   "metadata": {},
   "source": [
    "## (3) 데이터 이해하기"
   ]
  },
  {
   "cell_type": "code",
   "execution_count": 3,
   "id": "02fc7b9c",
   "metadata": {},
   "outputs": [
    {
     "name": "stdout",
     "output_type": "stream",
     "text": [
      "(1797, 64)\n",
      "(1797,)\n"
     ]
    }
   ],
   "source": [
    "digit_data = digit.data #Feature data 지정\n",
    "print(digit_data.shape)\n",
    "\n",
    "digit_label = digit.target #Lable data 지정\n",
    "print(digit_label.shape)"
   ]
  },
  {
   "cell_type": "code",
   "execution_count": 4,
   "id": "30852ef6",
   "metadata": {
    "scrolled": true
   },
   "outputs": [
    {
     "name": "stdout",
     "output_type": "stream",
     "text": [
      "[[ 0.  0.  5. ...  0.  0.  0.]\n",
      " [ 0.  0.  0. ... 10.  0.  0.]\n",
      " [ 0.  0.  0. ... 16.  9.  0.]\n",
      " ...\n",
      " [ 0.  0.  1. ...  6.  0.  0.]\n",
      " [ 0.  0.  2. ... 12.  0.  0.]\n",
      " [ 0.  0. 10. ... 12.  1.  0.]]\n",
      "[0 1 2 ... 8 9 8]\n"
     ]
    }
   ],
   "source": [
    "#Feature와 label의 데이터 내용 확인\n",
    "print(digit_data)\n",
    "print(digit_label)"
   ]
  },
  {
   "cell_type": "code",
   "execution_count": 5,
   "id": "bc3dcb2b",
   "metadata": {
    "scrolled": true
   },
   "outputs": [
    {
     "name": "stdout",
     "output_type": "stream",
     "text": [
      "['pixel_0_0', 'pixel_0_1', 'pixel_0_2', 'pixel_0_3', 'pixel_0_4', 'pixel_0_5', 'pixel_0_6', 'pixel_0_7', 'pixel_1_0', 'pixel_1_1', 'pixel_1_2', 'pixel_1_3', 'pixel_1_4', 'pixel_1_5', 'pixel_1_6', 'pixel_1_7', 'pixel_2_0', 'pixel_2_1', 'pixel_2_2', 'pixel_2_3', 'pixel_2_4', 'pixel_2_5', 'pixel_2_6', 'pixel_2_7', 'pixel_3_0', 'pixel_3_1', 'pixel_3_2', 'pixel_3_3', 'pixel_3_4', 'pixel_3_5', 'pixel_3_6', 'pixel_3_7', 'pixel_4_0', 'pixel_4_1', 'pixel_4_2', 'pixel_4_3', 'pixel_4_4', 'pixel_4_5', 'pixel_4_6', 'pixel_4_7', 'pixel_5_0', 'pixel_5_1', 'pixel_5_2', 'pixel_5_3', 'pixel_5_4', 'pixel_5_5', 'pixel_5_6', 'pixel_5_7', 'pixel_6_0', 'pixel_6_1', 'pixel_6_2', 'pixel_6_3', 'pixel_6_4', 'pixel_6_5', 'pixel_6_6', 'pixel_6_7', 'pixel_7_0', 'pixel_7_1', 'pixel_7_2', 'pixel_7_3', 'pixel_7_4', 'pixel_7_5', 'pixel_7_6', 'pixel_7_7']\n",
      "[0 1 2 3 4 5 6 7 8 9]\n"
     ]
    }
   ],
   "source": [
    "print(digit.feature_names) #Feature name\n",
    "print(digit.target_names) #Target name"
   ]
  },
  {
   "cell_type": "markdown",
   "id": "e70fd017",
   "metadata": {},
   "source": [
    "## (4) train, test 데이터 분리"
   ]
  },
  {
   "cell_type": "code",
   "execution_count": 6,
   "id": "dd10d5f9",
   "metadata": {},
   "outputs": [],
   "source": [
    "#train_test_split()를 사용하여 X값, y값을 각각 train data와 test data로 나눈다.\n",
    "#test_size는 몇대몇으로 나눌지 정하는 옵션, random_state는 랜덤 패턴의 값을 지정\n",
    "X_train, X_test, y_train, y_test = train_test_split(digit_data, \n",
    "                                                    digit_label, \n",
    "                                                    test_size=0.2, \n",
    "                                                    random_state=10) "
   ]
  },
  {
   "cell_type": "markdown",
   "id": "ec78f432",
   "metadata": {},
   "source": [
    "## (5) 다양한 모델로 학습"
   ]
  },
  {
   "cell_type": "code",
   "execution_count": 7,
   "id": "a848f504",
   "metadata": {
    "scrolled": false
   },
   "outputs": [
    {
     "name": "stderr",
     "output_type": "stream",
     "text": [
      "/Users/springkim/anaconda3/lib/python3.10/site-packages/sklearn/linear_model/_logistic.py:458: ConvergenceWarning: lbfgs failed to converge (status=1):\n",
      "STOP: TOTAL NO. of ITERATIONS REACHED LIMIT.\n",
      "\n",
      "Increase the number of iterations (max_iter) or scale the data as shown in:\n",
      "    https://scikit-learn.org/stable/modules/preprocessing.html\n",
      "Please also refer to the documentation for alternative solver options:\n",
      "    https://scikit-learn.org/stable/modules/linear_model.html#logistic-regression\n",
      "  n_iter_i = _check_optimize_result(\n"
     ]
    }
   ],
   "source": [
    "#의사결정나무\n",
    "decision_tree = DecisionTreeClassifier(random_state=32) #의사결정나무 객체 생성\n",
    "decision_tree.fit(X_train, y_train) #분류 객체에 x와 y의 훈련 데이터를 넣어 학습\n",
    "y_pred_dt = decision_tree.predict(X_test) #학습한 분류 객체에 X_test라는 테스트 데이터셋을 넣어 얼마나 예측 수준 확인\n",
    "\n",
    "\n",
    "#랜덤포레스트\n",
    "from sklearn.ensemble import RandomForestClassifier \n",
    "\n",
    "random_forest = RandomForestClassifier(random_state=32) #RandomForest분류기 객체를 생성\n",
    "random_forest.fit(X_train, y_train) # 훈련\n",
    "y_pred_rf = random_forest.predict(X_test) # 예측\n",
    "\n",
    "\n",
    "#서포트 벡터 머신\n",
    "from sklearn import svm\n",
    "\n",
    "svm_model = svm.SVC() # 모델 객체를 만든다.\n",
    "svm_model.fit(X_train, y_train) # 훈련\n",
    "y_pred_svm = svm_model.predict(X_test) # 예측\n",
    "\n",
    "\n",
    "#SGDClassifier\n",
    "from sklearn.linear_model import SGDClassifier\n",
    "\n",
    "sgd_model = SGDClassifier() # 모델 객체 생성\n",
    "sgd_model.fit(X_train, y_train) # sgd모델로 훈련데이터로 훈련시킨다.\n",
    "y_pred_sgd = sgd_model.predict(X_test)# 그 모델로 test데이터를 사용해 예측\n",
    "\n",
    "\n",
    "#Logistic Regression\n",
    "from sklearn.linear_model import LogisticRegression\n",
    "\n",
    "logistic_model = LogisticRegression() # 모델 객체 생성\n",
    "logistic_model.fit(X_train, y_train) #LogisticRegression모델로 훈련데이터를 가지고 훈련시킨다.\n",
    "y_pred_lr = logistic_model.predict(X_test) # 예측"
   ]
  },
  {
   "cell_type": "code",
   "execution_count": 8,
   "id": "f534ee0c",
   "metadata": {},
   "outputs": [
    {
     "name": "stdout",
     "output_type": "stream",
     "text": [
      "결정 트리 예측 정확도: 0.8611\n",
      "랜덤포레스트 예측 정확도: 0.9583\n",
      "서포트벡터머신 예측 정확도: 0.9833\n",
      "sgd 예측 정확도: 0.9472\n",
      "로지스틱 회귀분석 예측 정확도: 0.9500\n"
     ]
    }
   ],
   "source": [
    "#각 모델 별 예측 정확도 계산\n",
    "from sklearn.metrics import accuracy_score\n",
    "\n",
    "accuracy_dt = accuracy_score(y_test, y_pred_dt)\n",
    "print('결정 트리 예측 정확도: {0:.4f}'.format(accuracy_dt))\n",
    "\n",
    "accuracy_rf = accuracy_score(y_test, y_pred_rf)\n",
    "print('랜덤포레스트 예측 정확도: {0:.4f}'.format(accuracy_rf))\n",
    "\n",
    "accuracy_svm = accuracy_score(y_test, y_pred_svm)\n",
    "print('서포트벡터머신 예측 정확도: {0:.4f}'.format(accuracy_svm))\n",
    "\n",
    "accuracy_sgd = accuracy_score(y_test, y_pred_sgd)\n",
    "print('sgd 예측 정확도: {0:.4f}'.format(accuracy_sgd))\n",
    "\n",
    "accuracy_lr = accuracy_score(y_test, y_pred_lr)\n",
    "print('로지스틱 회귀분석 예측 정확도: {0:.4f}'.format(accuracy_lr))"
   ]
  },
  {
   "cell_type": "markdown",
   "id": "a27641fd",
   "metadata": {},
   "source": [
    "## (6) 모델 평가"
   ]
  },
  {
   "cell_type": "markdown",
   "id": "10b8891e",
   "metadata": {},
   "source": [
    "- 결정트리를 제외한 모든 모델 예측 정확도가 90% 이상을 달성했으며, 특히 랜덤포레스트의 예측 정확도가 가장 높다.\n",
    "- 예측해야 하는 데이터의 수가 많지 않은 것도 정확도에 영향을 준 것으로 보임."
   ]
  },
  {
   "cell_type": "markdown",
   "id": "94bd60cc",
   "metadata": {},
   "source": []
  },
  {
   "cell_type": "markdown",
   "id": "4facd812",
   "metadata": {},
   "source": [
    "# 프로젝트2. load_wine - 와인 분류"
   ]
  },
  {
   "cell_type": "markdown",
   "id": "58c32f8e",
   "metadata": {},
   "source": [
    "## (1) 모듈 import"
   ]
  },
  {
   "cell_type": "code",
   "execution_count": 9,
   "id": "3502fd19",
   "metadata": {},
   "outputs": [],
   "source": [
    "from sklearn.datasets import load_wine"
   ]
  },
  {
   "cell_type": "markdown",
   "id": "3626cef3",
   "metadata": {},
   "source": [
    "## (2) 데이터 준비"
   ]
  },
  {
   "cell_type": "code",
   "execution_count": 10,
   "id": "53a0cd7c",
   "metadata": {},
   "outputs": [
    {
     "data": {
      "text/plain": [
       "dict_keys(['data', 'target', 'frame', 'target_names', 'DESCR', 'feature_names'])"
      ]
     },
     "execution_count": 10,
     "metadata": {},
     "output_type": "execute_result"
    }
   ],
   "source": [
    "wine = load_wine() #iris 데이터 전체를 불러온다.\n",
    "wine.keys() #iris 데이터에 담긴 정보 확인"
   ]
  }
 ],
 "metadata": {
  "kernelspec": {
   "display_name": "Python 3 (ipykernel)",
   "language": "python",
   "name": "python3"
  },
  "language_info": {
   "codemirror_mode": {
    "name": "ipython",
    "version": 3
   },
   "file_extension": ".py",
   "mimetype": "text/x-python",
   "name": "python",
   "nbconvert_exporter": "python",
   "pygments_lexer": "ipython3",
   "version": "3.10.9"
  }
 },
 "nbformat": 4,
 "nbformat_minor": 5
}
