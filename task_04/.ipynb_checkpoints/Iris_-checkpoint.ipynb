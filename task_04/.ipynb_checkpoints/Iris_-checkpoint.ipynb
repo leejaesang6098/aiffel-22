{
 "cells": [
  {
   "cell_type": "markdown",
   "id": "d912e459",
   "metadata": {},
   "source": [
    "# 프로젝트1. load_digits - 손글씨 분류"
   ]
  },
  {
   "cell_type": "markdown",
   "id": "f06d9673",
   "metadata": {},
   "source": [
    "## (1) 모듈 import"
   ]
  },
  {
   "cell_type": "code",
   "execution_count": 1,
   "id": "f673b826",
   "metadata": {},
   "outputs": [],
   "source": [
    "from sklearn.datasets import load_iris\n",
    "from sklearn.model_selection import train_test_split\n",
    "from sklearn.tree import DecisionTreeClassifier\n",
    "from sklearn.metrics import classification_report"
   ]
  },
  {
   "cell_type": "markdown",
   "id": "6a3757e2",
   "metadata": {},
   "source": [
    "## (2) 데이터 준비"
   ]
  },
  {
   "cell_type": "code",
   "execution_count": 2,
   "id": "5945b6c2",
   "metadata": {},
   "outputs": [
    {
     "data": {
      "text/plain": [
       "dict_keys(['data', 'target', 'frame', 'target_names', 'DESCR', 'feature_names', 'filename', 'data_module'])"
      ]
     },
     "execution_count": 2,
     "metadata": {},
     "output_type": "execute_result"
    }
   ],
   "source": [
    "iris = load_iris() #iris 데이터 전체를 불러온다.\n",
    "iris.keys() #iris 데이터에 담긴 정보 확인"
   ]
  },
  {
   "cell_type": "markdown",
   "id": "ed641fdd",
   "metadata": {},
   "source": [
    "## (3) 데이터 이해하기"
   ]
  },
  {
   "cell_type": "code",
   "execution_count": 3,
   "id": "02fc7b9c",
   "metadata": {},
   "outputs": [
    {
     "name": "stdout",
     "output_type": "stream",
     "text": [
      "(150, 4)\n",
      "(150,)\n"
     ]
    }
   ],
   "source": [
    "iris_data = iris.data #Feature data 지정\n",
    "print(iris_data.shape)\n",
    "\n",
    "iris_label = iris.target #Lable data 지정\n",
    "print(iris_label.shape)"
   ]
  },
  {
   "cell_type": "code",
   "execution_count": 4,
   "id": "30852ef6",
   "metadata": {
    "scrolled": true
   },
   "outputs": [
    {
     "name": "stdout",
     "output_type": "stream",
     "text": [
      "[[5.1 3.5 1.4 0.2]\n",
      " [4.9 3.  1.4 0.2]\n",
      " [4.7 3.2 1.3 0.2]\n",
      " [4.6 3.1 1.5 0.2]\n",
      " [5.  3.6 1.4 0.2]\n",
      " [5.4 3.9 1.7 0.4]\n",
      " [4.6 3.4 1.4 0.3]\n",
      " [5.  3.4 1.5 0.2]\n",
      " [4.4 2.9 1.4 0.2]\n",
      " [4.9 3.1 1.5 0.1]\n",
      " [5.4 3.7 1.5 0.2]\n",
      " [4.8 3.4 1.6 0.2]\n",
      " [4.8 3.  1.4 0.1]\n",
      " [4.3 3.  1.1 0.1]\n",
      " [5.8 4.  1.2 0.2]\n",
      " [5.7 4.4 1.5 0.4]\n",
      " [5.4 3.9 1.3 0.4]\n",
      " [5.1 3.5 1.4 0.3]\n",
      " [5.7 3.8 1.7 0.3]\n",
      " [5.1 3.8 1.5 0.3]\n",
      " [5.4 3.4 1.7 0.2]\n",
      " [5.1 3.7 1.5 0.4]\n",
      " [4.6 3.6 1.  0.2]\n",
      " [5.1 3.3 1.7 0.5]\n",
      " [4.8 3.4 1.9 0.2]\n",
      " [5.  3.  1.6 0.2]\n",
      " [5.  3.4 1.6 0.4]\n",
      " [5.2 3.5 1.5 0.2]\n",
      " [5.2 3.4 1.4 0.2]\n",
      " [4.7 3.2 1.6 0.2]\n",
      " [4.8 3.1 1.6 0.2]\n",
      " [5.4 3.4 1.5 0.4]\n",
      " [5.2 4.1 1.5 0.1]\n",
      " [5.5 4.2 1.4 0.2]\n",
      " [4.9 3.1 1.5 0.2]\n",
      " [5.  3.2 1.2 0.2]\n",
      " [5.5 3.5 1.3 0.2]\n",
      " [4.9 3.6 1.4 0.1]\n",
      " [4.4 3.  1.3 0.2]\n",
      " [5.1 3.4 1.5 0.2]\n",
      " [5.  3.5 1.3 0.3]\n",
      " [4.5 2.3 1.3 0.3]\n",
      " [4.4 3.2 1.3 0.2]\n",
      " [5.  3.5 1.6 0.6]\n",
      " [5.1 3.8 1.9 0.4]\n",
      " [4.8 3.  1.4 0.3]\n",
      " [5.1 3.8 1.6 0.2]\n",
      " [4.6 3.2 1.4 0.2]\n",
      " [5.3 3.7 1.5 0.2]\n",
      " [5.  3.3 1.4 0.2]\n",
      " [7.  3.2 4.7 1.4]\n",
      " [6.4 3.2 4.5 1.5]\n",
      " [6.9 3.1 4.9 1.5]\n",
      " [5.5 2.3 4.  1.3]\n",
      " [6.5 2.8 4.6 1.5]\n",
      " [5.7 2.8 4.5 1.3]\n",
      " [6.3 3.3 4.7 1.6]\n",
      " [4.9 2.4 3.3 1. ]\n",
      " [6.6 2.9 4.6 1.3]\n",
      " [5.2 2.7 3.9 1.4]\n",
      " [5.  2.  3.5 1. ]\n",
      " [5.9 3.  4.2 1.5]\n",
      " [6.  2.2 4.  1. ]\n",
      " [6.1 2.9 4.7 1.4]\n",
      " [5.6 2.9 3.6 1.3]\n",
      " [6.7 3.1 4.4 1.4]\n",
      " [5.6 3.  4.5 1.5]\n",
      " [5.8 2.7 4.1 1. ]\n",
      " [6.2 2.2 4.5 1.5]\n",
      " [5.6 2.5 3.9 1.1]\n",
      " [5.9 3.2 4.8 1.8]\n",
      " [6.1 2.8 4.  1.3]\n",
      " [6.3 2.5 4.9 1.5]\n",
      " [6.1 2.8 4.7 1.2]\n",
      " [6.4 2.9 4.3 1.3]\n",
      " [6.6 3.  4.4 1.4]\n",
      " [6.8 2.8 4.8 1.4]\n",
      " [6.7 3.  5.  1.7]\n",
      " [6.  2.9 4.5 1.5]\n",
      " [5.7 2.6 3.5 1. ]\n",
      " [5.5 2.4 3.8 1.1]\n",
      " [5.5 2.4 3.7 1. ]\n",
      " [5.8 2.7 3.9 1.2]\n",
      " [6.  2.7 5.1 1.6]\n",
      " [5.4 3.  4.5 1.5]\n",
      " [6.  3.4 4.5 1.6]\n",
      " [6.7 3.1 4.7 1.5]\n",
      " [6.3 2.3 4.4 1.3]\n",
      " [5.6 3.  4.1 1.3]\n",
      " [5.5 2.5 4.  1.3]\n",
      " [5.5 2.6 4.4 1.2]\n",
      " [6.1 3.  4.6 1.4]\n",
      " [5.8 2.6 4.  1.2]\n",
      " [5.  2.3 3.3 1. ]\n",
      " [5.6 2.7 4.2 1.3]\n",
      " [5.7 3.  4.2 1.2]\n",
      " [5.7 2.9 4.2 1.3]\n",
      " [6.2 2.9 4.3 1.3]\n",
      " [5.1 2.5 3.  1.1]\n",
      " [5.7 2.8 4.1 1.3]\n",
      " [6.3 3.3 6.  2.5]\n",
      " [5.8 2.7 5.1 1.9]\n",
      " [7.1 3.  5.9 2.1]\n",
      " [6.3 2.9 5.6 1.8]\n",
      " [6.5 3.  5.8 2.2]\n",
      " [7.6 3.  6.6 2.1]\n",
      " [4.9 2.5 4.5 1.7]\n",
      " [7.3 2.9 6.3 1.8]\n",
      " [6.7 2.5 5.8 1.8]\n",
      " [7.2 3.6 6.1 2.5]\n",
      " [6.5 3.2 5.1 2. ]\n",
      " [6.4 2.7 5.3 1.9]\n",
      " [6.8 3.  5.5 2.1]\n",
      " [5.7 2.5 5.  2. ]\n",
      " [5.8 2.8 5.1 2.4]\n",
      " [6.4 3.2 5.3 2.3]\n",
      " [6.5 3.  5.5 1.8]\n",
      " [7.7 3.8 6.7 2.2]\n",
      " [7.7 2.6 6.9 2.3]\n",
      " [6.  2.2 5.  1.5]\n",
      " [6.9 3.2 5.7 2.3]\n",
      " [5.6 2.8 4.9 2. ]\n",
      " [7.7 2.8 6.7 2. ]\n",
      " [6.3 2.7 4.9 1.8]\n",
      " [6.7 3.3 5.7 2.1]\n",
      " [7.2 3.2 6.  1.8]\n",
      " [6.2 2.8 4.8 1.8]\n",
      " [6.1 3.  4.9 1.8]\n",
      " [6.4 2.8 5.6 2.1]\n",
      " [7.2 3.  5.8 1.6]\n",
      " [7.4 2.8 6.1 1.9]\n",
      " [7.9 3.8 6.4 2. ]\n",
      " [6.4 2.8 5.6 2.2]\n",
      " [6.3 2.8 5.1 1.5]\n",
      " [6.1 2.6 5.6 1.4]\n",
      " [7.7 3.  6.1 2.3]\n",
      " [6.3 3.4 5.6 2.4]\n",
      " [6.4 3.1 5.5 1.8]\n",
      " [6.  3.  4.8 1.8]\n",
      " [6.9 3.1 5.4 2.1]\n",
      " [6.7 3.1 5.6 2.4]\n",
      " [6.9 3.1 5.1 2.3]\n",
      " [5.8 2.7 5.1 1.9]\n",
      " [6.8 3.2 5.9 2.3]\n",
      " [6.7 3.3 5.7 2.5]\n",
      " [6.7 3.  5.2 2.3]\n",
      " [6.3 2.5 5.  1.9]\n",
      " [6.5 3.  5.2 2. ]\n",
      " [6.2 3.4 5.4 2.3]\n",
      " [5.9 3.  5.1 1.8]]\n",
      "[0 0 0 0 0 0 0 0 0 0 0 0 0 0 0 0 0 0 0 0 0 0 0 0 0 0 0 0 0 0 0 0 0 0 0 0 0\n",
      " 0 0 0 0 0 0 0 0 0 0 0 0 0 1 1 1 1 1 1 1 1 1 1 1 1 1 1 1 1 1 1 1 1 1 1 1 1\n",
      " 1 1 1 1 1 1 1 1 1 1 1 1 1 1 1 1 1 1 1 1 1 1 1 1 1 1 2 2 2 2 2 2 2 2 2 2 2\n",
      " 2 2 2 2 2 2 2 2 2 2 2 2 2 2 2 2 2 2 2 2 2 2 2 2 2 2 2 2 2 2 2 2 2 2 2 2 2\n",
      " 2 2]\n"
     ]
    }
   ],
   "source": [
    "#Feature와 label의 데이터 내용 확인\n",
    "print(iris_data)\n",
    "print(iris_label)"
   ]
  },
  {
   "cell_type": "code",
   "execution_count": 5,
   "id": "bc3dcb2b",
   "metadata": {
    "scrolled": true
   },
   "outputs": [
    {
     "name": "stdout",
     "output_type": "stream",
     "text": [
      "['sepal length (cm)', 'sepal width (cm)', 'petal length (cm)', 'petal width (cm)']\n",
      "['setosa' 'versicolor' 'virginica']\n"
     ]
    }
   ],
   "source": [
    "print(iris.feature_names) #Feature name\n",
    "print(iris.target_names) #Target name"
   ]
  },
  {
   "cell_type": "markdown",
   "id": "e70fd017",
   "metadata": {},
   "source": [
    "## (4) train, test 데이터 분리"
   ]
  },
  {
   "cell_type": "code",
   "execution_count": 6,
   "id": "dd10d5f9",
   "metadata": {},
   "outputs": [],
   "source": [
    "#train_test_split()를 사용하여 X값, y값을 각각 train data와 test data로 나눈다.\n",
    "#test_size는 몇대몇으로 나눌지 정하는 옵션, random_state는 랜덤 패턴의 값을 지정\n",
    "X_train, X_test, y_train, y_test = train_test_split(iris_data, \n",
    "                                                    iris_label, \n",
    "                                                    test_size=0.2, \n",
    "                                                    random_state=10) "
   ]
  },
  {
   "cell_type": "markdown",
   "id": "ec78f432",
   "metadata": {},
   "source": [
    "## (5) 다양한 모델로 학습"
   ]
  },
  {
   "cell_type": "code",
   "execution_count": 7,
   "id": "a848f504",
   "metadata": {
    "scrolled": false
   },
   "outputs": [],
   "source": [
    "#의사결정나무\n",
    "decision_tree = DecisionTreeClassifier(random_state=32) #의사결정나무 객체 생성\n",
    "decision_tree.fit(X_train, y_train) #분류 객체에 x와 y의 훈련 데이터를 넣어 학습\n",
    "y_pred_dt = decision_tree.predict(X_test) #학습한 분류 객체에 X_test라는 테스트 데이터셋을 넣어 얼마나 예측 수준 확인\n",
    "\n",
    "\n",
    "#랜덤포레스트\n",
    "from sklearn.ensemble import RandomForestClassifier \n",
    "\n",
    "random_forest = RandomForestClassifier(random_state=32) #RandomForest분류기 객체를 생성\n",
    "random_forest.fit(X_train, y_train) # 훈련\n",
    "y_pred_rf = random_forest.predict(X_test) # 예측\n",
    "\n",
    "\n",
    "#서포트 벡터 머신\n",
    "from sklearn import svm\n",
    "\n",
    "svm_model = svm.SVC() # 모델 객체를 만든다.\n",
    "svm_model.fit(X_train, y_train) # 훈련\n",
    "y_pred_svm = svm_model.predict(X_test) # 예측\n",
    "\n",
    "\n",
    "#SGDClassifier\n",
    "from sklearn.linear_model import SGDClassifier\n",
    "\n",
    "sgd_model = SGDClassifier() # 모델 객체 생성\n",
    "sgd_model.fit(X_train, y_train) # sgd모델로 훈련데이터로 훈련시킨다.\n",
    "y_pred_sgd = sgd_model.predict(X_test)# 그 모델로 test데이터를 사용해 예측\n",
    "\n",
    "\n",
    "#Logistic Regression\n",
    "from sklearn.linear_model import LogisticRegression\n",
    "\n",
    "logistic_model = LogisticRegression() # 모델 객체 생성\n",
    "logistic_model.fit(X_train, y_train) #LogisticRegression모델로 훈련데이터를 가지고 훈련시킨다.\n",
    "y_pred_lr = logistic_model.predict(X_test) # 예측"
   ]
  },
  {
   "cell_type": "code",
   "execution_count": 8,
   "id": "f534ee0c",
   "metadata": {},
   "outputs": [
    {
     "name": "stdout",
     "output_type": "stream",
     "text": [
      "결정 트리 예측 정확도: 0.9333\n",
      "랜덤포레스트 예측 정확도: 0.9667\n",
      "서포트벡터머신 예측 정확도: 0.9667\n",
      "sgd 예측 정확도: 0.6333\n",
      "로지스틱 회귀분석 예측 정확도: 1.0000\n"
     ]
    }
   ],
   "source": [
    "#각 모델 별 예측 정확도 계산\n",
    "from sklearn.metrics import accuracy_score\n",
    "\n",
    "accuracy_dt = accuracy_score(y_test, y_pred_dt)\n",
    "print('결정 트리 예측 정확도: {0:.4f}'.format(accuracy_dt))\n",
    "\n",
    "accuracy_rf = accuracy_score(y_test, y_pred_rf)\n",
    "print('랜덤포레스트 예측 정확도: {0:.4f}'.format(accuracy_rf))\n",
    "\n",
    "accuracy_svm = accuracy_score(y_test, y_pred_svm)\n",
    "print('서포트벡터머신 예측 정확도: {0:.4f}'.format(accuracy_svm))\n",
    "\n",
    "accuracy_sgd = accuracy_score(y_test, y_pred_sgd)\n",
    "print('sgd 예측 정확도: {0:.4f}'.format(accuracy_sgd))\n",
    "\n",
    "accuracy_lr = accuracy_score(y_test, y_pred_lr)\n",
    "print('로지스틱 회귀분석 예측 정확도: {0:.4f}'.format(accuracy_lr))"
   ]
  },
  {
   "cell_type": "markdown",
   "id": "a27641fd",
   "metadata": {},
   "source": [
    "## (6) 모델 평가"
   ]
  },
  {
   "cell_type": "markdown",
   "id": "10b8891e",
   "metadata": {},
   "source": [
    "- 모든 모델 예측 정확도가 90% 이상을 달성했으며, 특히 로지스틱 회귀분석의 예측 정확도는 100%이다.\n",
    "- 예측해야 하는 데이터의 수가 많지 않은 것도 정확도에 영향을 준 것으로 보임."
   ]
  },
  {
   "cell_type": "markdown",
   "id": "94bd60cc",
   "metadata": {},
   "source": []
  },
  {
   "cell_type": "markdown",
   "id": "4facd812",
   "metadata": {},
   "source": [
    "# 프로젝트2. load_wine - 와인 분류"
   ]
  },
  {
   "cell_type": "markdown",
   "id": "58c32f8e",
   "metadata": {},
   "source": [
    "## (1) 모듈 import"
   ]
  },
  {
   "cell_type": "code",
   "execution_count": 9,
   "id": "3502fd19",
   "metadata": {},
   "outputs": [],
   "source": [
    "from sklearn.datasets import load_wine"
   ]
  },
  {
   "cell_type": "markdown",
   "id": "3626cef3",
   "metadata": {},
   "source": [
    "## (2) 데이터 준비"
   ]
  },
  {
   "cell_type": "code",
   "execution_count": 10,
   "id": "53a0cd7c",
   "metadata": {},
   "outputs": [
    {
     "data": {
      "text/plain": [
       "dict_keys(['data', 'target', 'frame', 'target_names', 'DESCR', 'feature_names'])"
      ]
     },
     "execution_count": 10,
     "metadata": {},
     "output_type": "execute_result"
    }
   ],
   "source": [
    "wine = load_wine() #iris 데이터 전체를 불러온다.\n",
    "wine.keys() #iris 데이터에 담긴 정보 확인"
   ]
  },
  {
   "cell_type": "markdown",
   "id": "f9e81b04",
   "metadata": {},
   "source": [
    "## (3) 데이터 이해하기"
   ]
  },
  {
   "cell_type": "code",
   "execution_count": 11,
   "id": "7cd93cac",
   "metadata": {},
   "outputs": [
    {
     "name": "stdout",
     "output_type": "stream",
     "text": [
      "(178, 13)\n",
      "(178,)\n"
     ]
    }
   ],
   "source": [
    "wine_data = wine.data #Feature data 지정\n",
    "print(wine_data.shape)\n",
    "\n",
    "wine_label = wine.target #Lable data 지정\n",
    "print(wine_label.shape)"
   ]
  },
  {
   "cell_type": "code",
   "execution_count": 12,
   "id": "b50ce13e",
   "metadata": {
    "scrolled": true
   },
   "outputs": [
    {
     "name": "stdout",
     "output_type": "stream",
     "text": [
      "['alcohol', 'malic_acid', 'ash', 'alcalinity_of_ash', 'magnesium', 'total_phenols', 'flavanoids', 'nonflavanoid_phenols', 'proanthocyanins', 'color_intensity', 'hue', 'od280/od315_of_diluted_wines', 'proline']\n",
      "['class_0' 'class_1' 'class_2']\n"
     ]
    }
   ],
   "source": [
    "print(wine.feature_names) #Feature name\n",
    "print(wine.target_names) #Target name"
   ]
  },
  {
   "cell_type": "markdown",
   "id": "c05ca8f1",
   "metadata": {},
   "source": [
    "## (4) train, test 데이터 분리"
   ]
  },
  {
   "cell_type": "code",
   "execution_count": 13,
   "id": "ff620b7a",
   "metadata": {},
   "outputs": [],
   "source": [
    "#train_test_split()를 사용하여 X값, y값을 각각 train data와 test data로 나눈다. 함수에 들어 갈 파라미터로는 x,y가 들어가고\n",
    "#test_size는 몇대몇으로 나눌지 정하는 옵션, random_state는 랜덤 패턴의 값을 지정한다. (어떤 값을 넣어도 무방하다.)\n",
    "X_train, X_test, y_train, y_test = train_test_split(wine_data, \n",
    "                                                    wine_label, \n",
    "                                                    test_size=0.2, \n",
    "                                                    random_state=15) "
   ]
  },
  {
   "cell_type": "markdown",
   "id": "6a81ec5d",
   "metadata": {},
   "source": [
    "## (5) 다양한 모델로 학습"
   ]
  },
  {
   "cell_type": "code",
   "execution_count": 14,
   "id": "f00994a9",
   "metadata": {},
   "outputs": [
    {
     "name": "stderr",
     "output_type": "stream",
     "text": [
      "/opt/conda/lib/python3.9/site-packages/sklearn/linear_model/_logistic.py:814: ConvergenceWarning: lbfgs failed to converge (status=1):\n",
      "STOP: TOTAL NO. of ITERATIONS REACHED LIMIT.\n",
      "\n",
      "Increase the number of iterations (max_iter) or scale the data as shown in:\n",
      "    https://scikit-learn.org/stable/modules/preprocessing.html\n",
      "Please also refer to the documentation for alternative solver options:\n",
      "    https://scikit-learn.org/stable/modules/linear_model.html#logistic-regression\n",
      "  n_iter_i = _check_optimize_result(\n"
     ]
    }
   ],
   "source": [
    "#의사결정나무\n",
    "decision_tree = DecisionTreeClassifier(random_state=32) #의사결정나무 객체 생성\n",
    "decision_tree.fit(X_train, y_train) #분류 객체에 x와 y의 훈련 데이터를 넣어 학습\n",
    "y_pred_dt = decision_tree.predict(X_test) #학습한 분류 객체에 X_test라는 테스트 데이터셋을 넣어 얼마나 예측 수준 확인\n",
    "\n",
    "\n",
    "#랜덤포레스트\n",
    "random_forest = RandomForestClassifier(random_state=32) # RandomForest분류기 객체를 생성\n",
    "random_forest.fit(X_train, y_train) # 훈련\n",
    "y_pred_rf = random_forest.predict(X_test) # 예측\n",
    "\n",
    "\n",
    "#서포트 벡터 머신\n",
    "svm_model = svm.SVC() # 모델 객체를 만든다.\n",
    "svm_model.fit(X_train, y_train) # 훈련\n",
    "y_pred_svm = svm_model.predict(X_test) # 예측\n",
    "\n",
    "\n",
    "#SGDClassifier\n",
    "sgd_model = SGDClassifier() # 모델 객체 생성\n",
    "sgd_model.fit(X_train, y_train) # sgd모델로 훈련데이터로 훈련시킨다.\n",
    "y_pred_sgd = sgd_model.predict(X_test)# 그 모델로 test데이터를 사용해 예측\n",
    "\n",
    "\n",
    "#Logistic Regression\n",
    "logistic_model = LogisticRegression() # 모델 객체 생성\n",
    "logistic_model.fit(X_train, y_train) #LogisticRegression모델로 훈련데이터를 가지고 훈련시킨다.\n",
    "y_pred_lr = logistic_model.predict(X_test) # 예측"
   ]
  },
  {
   "cell_type": "code",
   "execution_count": 15,
   "id": "cb4d5313",
   "metadata": {},
   "outputs": [
    {
     "name": "stdout",
     "output_type": "stream",
     "text": [
      "결정 트리 예측 정확도: 0.9167\n",
      "랜덤포레스트 예측 정확도: 1.0000\n",
      "서포트벡터머신 예측 정확도: 0.6111\n",
      "sgd 예측 정확도: 0.6111\n",
      "로지스틱 회귀분석 예측 정확도: 0.9444\n"
     ]
    }
   ],
   "source": [
    "accuracy_dt = accuracy_score(y_test, y_pred_dt)\n",
    "print('결정 트리 예측 정확도: {0:.4f}'.format(accuracy_dt))\n",
    "\n",
    "accuracy_rf = accuracy_score(y_test, y_pred_rf)\n",
    "print('랜덤포레스트 예측 정확도: {0:.4f}'.format(accuracy_rf))\n",
    "\n",
    "accuracy_svm = accuracy_score(y_test, y_pred_svm)\n",
    "print('서포트벡터머신 예측 정확도: {0:.4f}'.format(accuracy_svm))\n",
    "\n",
    "accuracy_sgd = accuracy_score(y_test, y_pred_sgd)\n",
    "print('sgd 예측 정확도: {0:.4f}'.format(accuracy_sgd))\n",
    "\n",
    "accuracy_lr = accuracy_score(y_test, y_pred_lr)\n",
    "print('로지스틱 회귀분석 예측 정확도: {0:.4f}'.format(accuracy_lr))"
   ]
  },
  {
   "cell_type": "markdown",
   "id": "145271cb",
   "metadata": {},
   "source": [
    "## (6) 모델 평가"
   ]
  },
  {
   "cell_type": "markdown",
   "id": "7863fac0",
   "metadata": {},
   "source": [
    "- 랜덤포레스트가 100% 정확도로 가장 높은 분류 정확도를 보임.\n",
    "- 다만, SVM과 SGD가 50~60% 정확도를 보여 타 분류 모델 대비 낮은 분류 정확도를 보임."
   ]
  },
  {
   "cell_type": "markdown",
   "id": "9f70729e",
   "metadata": {},
   "source": [
    "# 프로젝트3. load_breast_cancer - 유방암 여부 진단"
   ]
  },
  {
   "cell_type": "markdown",
   "id": "58631924",
   "metadata": {},
   "source": [
    "## (1) 모듈 import"
   ]
  },
  {
   "cell_type": "code",
   "execution_count": 16,
   "id": "dc2181d5",
   "metadata": {},
   "outputs": [],
   "source": [
    "from sklearn.datasets import load_breast_cancer"
   ]
  },
  {
   "cell_type": "markdown",
   "id": "b40180ef",
   "metadata": {},
   "source": [
    "## (2) 데이터 준비"
   ]
  },
  {
   "cell_type": "code",
   "execution_count": 17,
   "id": "1c2296bf",
   "metadata": {},
   "outputs": [
    {
     "data": {
      "text/plain": [
       "dict_keys(['data', 'target', 'frame', 'target_names', 'DESCR', 'feature_names', 'filename', 'data_module'])"
      ]
     },
     "execution_count": 17,
     "metadata": {},
     "output_type": "execute_result"
    }
   ],
   "source": [
    "# (2) 데이터 준비\n",
    "cancer = load_breast_cancer() #iris 데이터 전체를 불러온다.\n",
    "cancer.keys() #iris 데이터에 담긴 정보 확인"
   ]
  },
  {
   "cell_type": "markdown",
   "id": "a6653409",
   "metadata": {},
   "source": [
    "## (3) 데이터 이해하기"
   ]
  },
  {
   "cell_type": "code",
   "execution_count": 18,
   "id": "21f37b2a",
   "metadata": {},
   "outputs": [
    {
     "name": "stdout",
     "output_type": "stream",
     "text": [
      "(569, 30)\n",
      "(569,)\n"
     ]
    }
   ],
   "source": [
    "cancer_data = cancer.data #Feature data 지정\n",
    "print(cancer_data.shape)\n",
    "\n",
    "cancer_label = cancer.target #Lable data 지정\n",
    "print(cancer_label.shape)"
   ]
  },
  {
   "cell_type": "code",
   "execution_count": 19,
   "id": "eb5ed014",
   "metadata": {},
   "outputs": [
    {
     "name": "stdout",
     "output_type": "stream",
     "text": [
      "['mean radius' 'mean texture' 'mean perimeter' 'mean area'\n",
      " 'mean smoothness' 'mean compactness' 'mean concavity'\n",
      " 'mean concave points' 'mean symmetry' 'mean fractal dimension'\n",
      " 'radius error' 'texture error' 'perimeter error' 'area error'\n",
      " 'smoothness error' 'compactness error' 'concavity error'\n",
      " 'concave points error' 'symmetry error' 'fractal dimension error'\n",
      " 'worst radius' 'worst texture' 'worst perimeter' 'worst area'\n",
      " 'worst smoothness' 'worst compactness' 'worst concavity'\n",
      " 'worst concave points' 'worst symmetry' 'worst fractal dimension']\n",
      "['malignant' 'benign']\n"
     ]
    }
   ],
   "source": [
    "print(cancer.feature_names) #Feature name\n",
    "print(cancer.target_names) #Target name"
   ]
  },
  {
   "cell_type": "markdown",
   "id": "6e09c5de",
   "metadata": {},
   "source": [
    "## (4) train, test 데이터 분리"
   ]
  },
  {
   "cell_type": "code",
   "execution_count": 23,
   "id": "c48881c0",
   "metadata": {},
   "outputs": [],
   "source": [
    "#train_test_split()를 사용하여 X값, y값을 각각 train data와 test data로 나눈다. 함수에 들어 갈 파라미터로는 x,y가 들어가고\n",
    "#test_size는 몇대몇으로 나눌지 정하는 옵션, random_state는 랜덤 패턴의 값을 지정한다. (어떤 값을 넣어도 무방하다.)\n",
    "X_train, X_test, y_train, y_test = train_test_split(cancer_data, \n",
    "                                                    cancer_label, \n",
    "                                                    test_size=0.2, \n",
    "                                                    random_state=15) "
   ]
  },
  {
   "cell_type": "markdown",
   "id": "0f65bdc4",
   "metadata": {},
   "source": [
    "## (5) 다양한 모델로 학습"
   ]
  },
  {
   "cell_type": "code",
   "execution_count": 24,
   "id": "0ab81f95",
   "metadata": {},
   "outputs": [
    {
     "name": "stderr",
     "output_type": "stream",
     "text": [
      "/opt/conda/lib/python3.9/site-packages/sklearn/linear_model/_logistic.py:814: ConvergenceWarning: lbfgs failed to converge (status=1):\n",
      "STOP: TOTAL NO. of ITERATIONS REACHED LIMIT.\n",
      "\n",
      "Increase the number of iterations (max_iter) or scale the data as shown in:\n",
      "    https://scikit-learn.org/stable/modules/preprocessing.html\n",
      "Please also refer to the documentation for alternative solver options:\n",
      "    https://scikit-learn.org/stable/modules/linear_model.html#logistic-regression\n",
      "  n_iter_i = _check_optimize_result(\n"
     ]
    }
   ],
   "source": [
    "#의사결정나무\n",
    "decision_tree = DecisionTreeClassifier(random_state=32) #의사결정나무 객체 생성\n",
    "decision_tree.fit(X_train, y_train) #분류 객체에 x와 y의 훈련 데이터를 넣어 학습\n",
    "y_pred_dt = decision_tree.predict(X_test) #학습한 분류 객체에 X_test라는 테스트 데이터셋을 넣어 얼마나 예측 수준 확인\n",
    "\n",
    "\n",
    "#랜덤포레스트\n",
    "random_forest = RandomForestClassifier(random_state=32) # RandomForest분류기 객체를 생성\n",
    "random_forest.fit(X_train, y_train) # 훈련\n",
    "y_pred_rf = random_forest.predict(X_test) # 예측\n",
    "\n",
    "\n",
    "#서포트 벡터 머신\n",
    "svm_model = svm.SVC() # 모델 객체를 만든다.\n",
    "svm_model.fit(X_train, y_train) # 훈련\n",
    "y_pred_svm = svm_model.predict(X_test) # 예측\n",
    "\n",
    "\n",
    "#SGDClassifier\n",
    "sgd_model = SGDClassifier() # 모델 객체 생성\n",
    "sgd_model.fit(X_train, y_train) # sgd모델로 훈련데이터로 훈련시킨다.\n",
    "y_pred_sgd = sgd_model.predict(X_test)# 그 모델로 test데이터를 사용해 예측\n",
    "\n",
    "\n",
    "#Logistic Regression\n",
    "logistic_model = LogisticRegression() # 모델 객체 생성\n",
    "logistic_model.fit(X_train, y_train) #LogisticRegression모델로 훈련데이터를 가지고 훈련시킨다.\n",
    "y_pred_lr = logistic_model.predict(X_test) # 예측"
   ]
  },
  {
   "cell_type": "code",
   "execution_count": 25,
   "id": "aa027902",
   "metadata": {},
   "outputs": [
    {
     "name": "stdout",
     "output_type": "stream",
     "text": [
      "결정 트리 예측 정확도: 0.9474\n",
      "랜덤포레스트 예측 정확도: 0.9386\n",
      "서포트벡터머신 예측 정확도: 0.8684\n",
      "sgd 예측 정확도: 0.8684\n",
      "로지스틱 회귀분석 예측 정확도: 0.8947\n"
     ]
    }
   ],
   "source": [
    "accuracy_dt = accuracy_score(y_test, y_pred_dt)\n",
    "print('결정 트리 예측 정확도: {0:.4f}'.format(accuracy_dt))\n",
    "\n",
    "accuracy_rf = accuracy_score(y_test, y_pred_rf)\n",
    "print('랜덤포레스트 예측 정확도: {0:.4f}'.format(accuracy_rf))\n",
    "\n",
    "accuracy_svm = accuracy_score(y_test, y_pred_svm)\n",
    "print('서포트벡터머신 예측 정확도: {0:.4f}'.format(accuracy_svm))\n",
    "\n",
    "accuracy_sgd = accuracy_score(y_test, y_pred_sgd)\n",
    "print('sgd 예측 정확도: {0:.4f}'.format(accuracy_sgd))\n",
    "\n",
    "accuracy_lr = accuracy_score(y_test, y_pred_lr)\n",
    "print('로지스틱 회귀분석 예측 정확도: {0:.4f}'.format(accuracy_lr))"
   ]
  },
  {
   "cell_type": "markdown",
   "id": "21f8f19a",
   "metadata": {},
   "source": [
    "## (6) 모델 평가"
   ]
  },
  {
   "cell_type": "markdown",
   "id": "3a966a43",
   "metadata": {},
   "source": [
    "- 이전 숫자와 와인 데이터와 다르게 feature의 수가 많은 데이터라서 100% 정확도를 보이는 모델은 없음\n",
    "- 5가지 분류 모델 중 의사결정트리의 정확도가 약 95% 수준으로 가장 높은 분류 정확도를 보임."
   ]
  },
  {
   "cell_type": "markdown",
   "id": "5960f84f",
   "metadata": {},
   "source": [
    "## 회고"
   ]
  },
  {
   "cell_type": "markdown",
   "id": "8c861cb8",
   "metadata": {},
   "source": [
    "### 잘한점"
   ]
  },
  {
   "cell_type": "code",
   "execution_count": null,
   "id": "d6b84fd0",
   "metadata": {},
   "outputs": [],
   "source": []
  },
  {
   "cell_type": "markdown",
   "id": "3dd23272",
   "metadata": {},
   "source": [
    "### 보완할 점"
   ]
  },
  {
   "cell_type": "code",
   "execution_count": null,
   "id": "a4ea5cec",
   "metadata": {},
   "outputs": [],
   "source": []
  },
  {
   "cell_type": "markdown",
   "id": "5359ad2b",
   "metadata": {},
   "source": [
    "### 참고사항"
   ]
  },
  {
   "cell_type": "code",
   "execution_count": null,
   "id": "57468248",
   "metadata": {},
   "outputs": [],
   "source": []
  }
 ],
 "metadata": {
  "kernelspec": {
   "display_name": "Python 3 (ipykernel)",
   "language": "python",
   "name": "python3"
  },
  "language_info": {
   "codemirror_mode": {
    "name": "ipython",
    "version": 3
   },
   "file_extension": ".py",
   "mimetype": "text/x-python",
   "name": "python",
   "nbconvert_exporter": "python",
   "pygments_lexer": "ipython3",
   "version": "3.10.9"
  }
 },
 "nbformat": 4,
 "nbformat_minor": 5
}
