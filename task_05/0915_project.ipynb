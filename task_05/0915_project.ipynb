{
 "cells": [
  {
   "cell_type": "markdown",
   "id": "b8539bd2",
   "metadata": {},
   "source": [
    "## 1. 상황 인식"
   ]
  },
  {
   "cell_type": "markdown",
   "id": "62ed8f15",
   "metadata": {},
   "source": [
    "'모두 카페'라는 작은 스터디 카페..!  \n",
    "월 매출액 정도만 간신히 알고 있을 뿐, 스터디 카페의 매출 추세나 음료와 음식별 판매금액 같은 내용을 전혀 모름..  \n",
    "앞으로 '모두 카페'가 더 잘되기 위한 운영 전략 제시를 원함!"
   ]
  },
  {
   "cell_type": "markdown",
   "id": "10592dee",
   "metadata": {},
   "source": [
    "## 2. 문제 정의"
   ]
  },
  {
   "cell_type": "markdown",
   "id": "43fa9c6d",
   "metadata": {},
   "source": [
    "> 핵심문제: 모두 카페의 상태는 어떤가?\n",
    "- 월별 매출액 추세\n",
    "- 가장 인기있는 음식/음료\n",
    "- 가장 많이 팔린 입장권 종류\n",
    "\n",
    "MECE를 이용한 문제 정의\n",
    "- 'ME'가 실패하면 혼동을 발생시키고 효율성이 하락\n",
    "- 'CE'가 실패하면 목표에서 벗어나고 효과성이 하락\n",
    "\n",
    "\n",
    "좋은 문제 정의의 특징\n",
    "- 핵심적인 질문 또는 분명한 가설\n",
    "- 일반적이지 않고 아주 구체적인 표현\n",
    "- 실현 가능한 목표\n",
    "- 이해관계자에게 통찰력을 주는 관점 제시\n",
    "\n",
    "> 문제정의: 시간대별 가장 잘 팔리는 상품을 분석하고 매출 향상을 위한 전략 제시"
   ]
  },
  {
   "cell_type": "markdown",
   "id": "e6a1e9ce",
   "metadata": {},
   "source": [
    "## 3. 데이터 분석"
   ]
  },
  {
   "cell_type": "markdown",
   "id": "30f62542",
   "metadata": {},
   "source": [
    "### (1) 필요한 모듈 import하기"
   ]
  },
  {
   "cell_type": "code",
   "execution_count": 1,
   "id": "f76cfdee",
   "metadata": {},
   "outputs": [
    {
     "name": "stdout",
     "output_type": "stream",
     "text": [
      "완료!\n"
     ]
    }
   ],
   "source": [
    "# Pandas, Numpy, Matplotlib, Seaborn을 호출\n",
    "import pandas as pd\n",
    "import matplotlib as mpl\n",
    "import matplotlib.pyplot as plt\n",
    "import matplotlib.font_manager as fm\n",
    "import seaborn as sns\n",
    "plt.style.use('default')\n",
    "\n",
    "# sklearn라이브러리 중 필요한 모듈을 호출\n",
    "from sklearn.cluster import KMeans\n",
    "from sklearn import preprocessing\n",
    "\n",
    "import warnings\n",
    "warnings.filterwarnings(\"ignore\")\n",
    "\n",
    "fontpath = '/usr/share/fonts/truetype/nanum/NanumBarunGothic.ttf'\n",
    "font = fm.FontProperties(fname=fontpath, size=9)\n",
    "plt.rc('font', family='NanumBarunGothic') \n",
    "mpl.font_manager.findfont(font)\n",
    "print(\"완료!\")"
   ]
  },
  {
   "cell_type": "markdown",
   "id": "e50f7e21",
   "metadata": {},
   "source": [
    "### (2) 데이터 준비"
   ]
  },
  {
   "cell_type": "code",
   "execution_count": 2,
   "id": "5f45e5f3",
   "metadata": {},
   "outputs": [],
   "source": [
    "# 데이터 호출하기\n",
    "entry_data = pd.read_csv('/aiffel/data/entry_data.csv')\n",
    "sales_data = pd.read_csv('/aiffel/data/sales_data.csv')\n",
    "item_data = pd.read_csv('/aiffel/data/item_data.csv')\n",
    "item_entry_data = pd.read_csv('/aiffel/data/item_entry_data.csv')"
   ]
  },
  {
   "cell_type": "markdown",
   "id": "bde94e53",
   "metadata": {},
   "source": [
    "- entry_data: '모두 스터디카페'의 시간별 입장 기록 데이터\n",
    "- sales_data: '모두 스터디카페'의 시간별 음식/음료 판매 데이터\n",
    "- item_data: '모두 스터디카페'에서 판매하고 있는 음식/음료 종류와 가격\n",
    "- item_entry_data: '모두 스터디카페'에서 판매하고 있는 입장권 종류와 가격"
   ]
  },
  {
   "cell_type": "code",
   "execution_count": 3,
   "id": "07b28164",
   "metadata": {},
   "outputs": [
    {
     "data": {
      "text/html": [
       "<div>\n",
       "<style scoped>\n",
       "    .dataframe tbody tr th:only-of-type {\n",
       "        vertical-align: middle;\n",
       "    }\n",
       "\n",
       "    .dataframe tbody tr th {\n",
       "        vertical-align: top;\n",
       "    }\n",
       "\n",
       "    .dataframe thead th {\n",
       "        text-align: right;\n",
       "    }\n",
       "</style>\n",
       "<table border=\"1\" class=\"dataframe\">\n",
       "  <thead>\n",
       "    <tr style=\"text-align: right;\">\n",
       "      <th></th>\n",
       "      <th>요금제명</th>\n",
       "      <th>입실</th>\n",
       "      <th>퇴실</th>\n",
       "      <th>이용</th>\n",
       "      <th>위치</th>\n",
       "      <th>금액</th>\n",
       "      <th>구분</th>\n",
       "      <th>고객</th>\n",
       "    </tr>\n",
       "  </thead>\n",
       "  <tbody>\n",
       "    <tr>\n",
       "      <th>0</th>\n",
       "      <td>시간요금제(1시간)</td>\n",
       "      <td>2022-04-01 23:39</td>\n",
       "      <td>2022-04-02 0:39</td>\n",
       "      <td>오전 1:00:00</td>\n",
       "      <td>선불기2</td>\n",
       "      <td>3000</td>\n",
       "      <td>퇴실</td>\n",
       "      <td>customer263717</td>\n",
       "    </tr>\n",
       "    <tr>\n",
       "      <th>1</th>\n",
       "      <td>시간요금제(1시간)</td>\n",
       "      <td>2022-04-01 23:39</td>\n",
       "      <td>2022-04-02 0:39</td>\n",
       "      <td>오전 1:00:00</td>\n",
       "      <td>선불기2</td>\n",
       "      <td>3000</td>\n",
       "      <td>퇴실</td>\n",
       "      <td>customer263717</td>\n",
       "    </tr>\n",
       "    <tr>\n",
       "      <th>2</th>\n",
       "      <td>무제한 입장권</td>\n",
       "      <td>2022-04-01 20:55</td>\n",
       "      <td>2022-04-01 21:41</td>\n",
       "      <td>오전 12:46:00</td>\n",
       "      <td>선불기2</td>\n",
       "      <td>7400</td>\n",
       "      <td>퇴실</td>\n",
       "      <td>customer247263</td>\n",
       "    </tr>\n",
       "    <tr>\n",
       "      <th>3</th>\n",
       "      <td>무제한 입장권</td>\n",
       "      <td>2022-04-01 20:55</td>\n",
       "      <td>2022-04-01 21:41</td>\n",
       "      <td>오전 12:46:00</td>\n",
       "      <td>선불기2</td>\n",
       "      <td>7400</td>\n",
       "      <td>퇴실</td>\n",
       "      <td>customer247263</td>\n",
       "    </tr>\n",
       "    <tr>\n",
       "      <th>4</th>\n",
       "      <td>한국대생 무제한 입장권</td>\n",
       "      <td>2022-04-01 19:54</td>\n",
       "      <td>2022-04-01 22:28</td>\n",
       "      <td>오전 2:33:00</td>\n",
       "      <td>선불기2</td>\n",
       "      <td>7400</td>\n",
       "      <td>퇴실</td>\n",
       "      <td>customer388928</td>\n",
       "    </tr>\n",
       "  </tbody>\n",
       "</table>\n",
       "</div>"
      ],
      "text/plain": [
       "           요금제명                입실                퇴실           이용    위치    금액  \\\n",
       "0    시간요금제(1시간)  2022-04-01 23:39   2022-04-02 0:39   오전 1:00:00  선불기2  3000   \n",
       "1    시간요금제(1시간)  2022-04-01 23:39   2022-04-02 0:39   오전 1:00:00  선불기2  3000   \n",
       "2       무제한 입장권  2022-04-01 20:55  2022-04-01 21:41  오전 12:46:00  선불기2  7400   \n",
       "3       무제한 입장권  2022-04-01 20:55  2022-04-01 21:41  오전 12:46:00  선불기2  7400   \n",
       "4  한국대생 무제한 입장권  2022-04-01 19:54  2022-04-01 22:28   오전 2:33:00  선불기2  7400   \n",
       "\n",
       "   구분              고객  \n",
       "0  퇴실  customer263717  \n",
       "1  퇴실  customer263717  \n",
       "2  퇴실  customer247263  \n",
       "3  퇴실  customer247263  \n",
       "4  퇴실  customer388928  "
      ]
     },
     "execution_count": 3,
     "metadata": {},
     "output_type": "execute_result"
    }
   ],
   "source": [
    "# entry_data 데이터 정보 확인하기\n",
    "entry_data.head()"
   ]
  },
  {
   "cell_type": "code",
   "execution_count": 4,
   "id": "0490bd46",
   "metadata": {},
   "outputs": [
    {
     "data": {
      "text/html": [
       "<div>\n",
       "<style scoped>\n",
       "    .dataframe tbody tr th:only-of-type {\n",
       "        vertical-align: middle;\n",
       "    }\n",
       "\n",
       "    .dataframe tbody tr th {\n",
       "        vertical-align: top;\n",
       "    }\n",
       "\n",
       "    .dataframe thead th {\n",
       "        text-align: right;\n",
       "    }\n",
       "</style>\n",
       "<table border=\"1\" class=\"dataframe\">\n",
       "  <thead>\n",
       "    <tr style=\"text-align: right;\">\n",
       "      <th></th>\n",
       "      <th>결제일시</th>\n",
       "      <th>판매위치</th>\n",
       "      <th>상품명</th>\n",
       "      <th>결제방식</th>\n",
       "      <th>비고</th>\n",
       "      <th>판매수량</th>\n",
       "      <th>결제금액</th>\n",
       "      <th>고객</th>\n",
       "    </tr>\n",
       "  </thead>\n",
       "  <tbody>\n",
       "    <tr>\n",
       "      <th>0</th>\n",
       "      <td>2022-04-01 19:41</td>\n",
       "      <td>선불기1</td>\n",
       "      <td>치킨카라아케 6pc</td>\n",
       "      <td>신용카드</td>\n",
       "      <td>결제완료</td>\n",
       "      <td>1</td>\n",
       "      <td>4,500</td>\n",
       "      <td>customer275507</td>\n",
       "    </tr>\n",
       "    <tr>\n",
       "      <th>1</th>\n",
       "      <td>2022-04-01 19:41</td>\n",
       "      <td>선불기1</td>\n",
       "      <td>짜장라면(계란추가)</td>\n",
       "      <td>신용카드</td>\n",
       "      <td>결제완료</td>\n",
       "      <td>1</td>\n",
       "      <td>5,500</td>\n",
       "      <td>customer275507</td>\n",
       "    </tr>\n",
       "    <tr>\n",
       "      <th>2</th>\n",
       "      <td>2022-04-01 19:41</td>\n",
       "      <td>선불기1</td>\n",
       "      <td>라면</td>\n",
       "      <td>신용카드</td>\n",
       "      <td>결제완료</td>\n",
       "      <td>1</td>\n",
       "      <td>4,000</td>\n",
       "      <td>customer275507</td>\n",
       "    </tr>\n",
       "    <tr>\n",
       "      <th>3</th>\n",
       "      <td>2022-04-01 19:41</td>\n",
       "      <td>선불기1</td>\n",
       "      <td>비엔나소세지(토핑)</td>\n",
       "      <td>신용카드</td>\n",
       "      <td>결제완료</td>\n",
       "      <td>1</td>\n",
       "      <td>1,000</td>\n",
       "      <td>customer275507</td>\n",
       "    </tr>\n",
       "    <tr>\n",
       "      <th>4</th>\n",
       "      <td>2022-04-01 19:41</td>\n",
       "      <td>선불기1</td>\n",
       "      <td>라면(계란/치즈추가)</td>\n",
       "      <td>신용카드</td>\n",
       "      <td>결제완료</td>\n",
       "      <td>1</td>\n",
       "      <td>5,000</td>\n",
       "      <td>customer275507</td>\n",
       "    </tr>\n",
       "  </tbody>\n",
       "</table>\n",
       "</div>"
      ],
      "text/plain": [
       "               결제일시  판매위치          상품명  결제방식    비고  판매수량   결제금액  \\\n",
       "0  2022-04-01 19:41  선불기1   치킨카라아케 6pc  신용카드  결제완료     1  4,500   \n",
       "1  2022-04-01 19:41  선불기1   짜장라면(계란추가)  신용카드  결제완료     1  5,500   \n",
       "2  2022-04-01 19:41  선불기1           라면  신용카드  결제완료     1  4,000   \n",
       "3  2022-04-01 19:41  선불기1   비엔나소세지(토핑)  신용카드  결제완료     1  1,000   \n",
       "4  2022-04-01 19:41  선불기1  라면(계란/치즈추가)  신용카드  결제완료     1  5,000   \n",
       "\n",
       "               고객  \n",
       "0  customer275507  \n",
       "1  customer275507  \n",
       "2  customer275507  \n",
       "3  customer275507  \n",
       "4  customer275507  "
      ]
     },
     "execution_count": 4,
     "metadata": {},
     "output_type": "execute_result"
    }
   ],
   "source": [
    "# sales_data 데이터 정보 확인하기\n",
    "sales_data.head()"
   ]
  },
  {
   "cell_type": "code",
   "execution_count": 5,
   "id": "64f7a87b",
   "metadata": {},
   "outputs": [
    {
     "data": {
      "text/html": [
       "<div>\n",
       "<style scoped>\n",
       "    .dataframe tbody tr th:only-of-type {\n",
       "        vertical-align: middle;\n",
       "    }\n",
       "\n",
       "    .dataframe tbody tr th {\n",
       "        vertical-align: top;\n",
       "    }\n",
       "\n",
       "    .dataframe thead th {\n",
       "        text-align: right;\n",
       "    }\n",
       "</style>\n",
       "<table border=\"1\" class=\"dataframe\">\n",
       "  <thead>\n",
       "    <tr style=\"text-align: right;\">\n",
       "      <th></th>\n",
       "      <th>구분</th>\n",
       "      <th>분류</th>\n",
       "      <th>상품명</th>\n",
       "      <th>판매금액</th>\n",
       "    </tr>\n",
       "  </thead>\n",
       "  <tbody>\n",
       "    <tr>\n",
       "      <th>0</th>\n",
       "      <td>1</td>\n",
       "      <td>게임&amp;TV</td>\n",
       "      <td>이어폰(커널형)</td>\n",
       "      <td>3,000원</td>\n",
       "    </tr>\n",
       "    <tr>\n",
       "      <th>1</th>\n",
       "      <td>2</td>\n",
       "      <td>디저트</td>\n",
       "      <td>초코머핀</td>\n",
       "      <td>3,500원</td>\n",
       "    </tr>\n",
       "    <tr>\n",
       "      <th>2</th>\n",
       "      <td>3</td>\n",
       "      <td>디저트</td>\n",
       "      <td>쿠키(초코칩)</td>\n",
       "      <td>1,500원</td>\n",
       "    </tr>\n",
       "    <tr>\n",
       "      <th>3</th>\n",
       "      <td>4</td>\n",
       "      <td>디저트</td>\n",
       "      <td>쿠키(마카다미아)</td>\n",
       "      <td>1,500원</td>\n",
       "    </tr>\n",
       "    <tr>\n",
       "      <th>4</th>\n",
       "      <td>5</td>\n",
       "      <td>디저트</td>\n",
       "      <td>미니마카롱(3개)</td>\n",
       "      <td>2,000원</td>\n",
       "    </tr>\n",
       "  </tbody>\n",
       "</table>\n",
       "</div>"
      ],
      "text/plain": [
       "   구분     분류        상품명    판매금액\n",
       "0   1  게임&TV   이어폰(커널형)  3,000원\n",
       "1   2    디저트       초코머핀  3,500원\n",
       "2   3    디저트    쿠키(초코칩)  1,500원\n",
       "3   4    디저트  쿠키(마카다미아)  1,500원\n",
       "4   5    디저트  미니마카롱(3개)  2,000원"
      ]
     },
     "execution_count": 5,
     "metadata": {},
     "output_type": "execute_result"
    }
   ],
   "source": [
    "# item_data 데이터 정보 확인하기\n",
    "item_data.head()"
   ]
  },
  {
   "cell_type": "code",
   "execution_count": 6,
   "id": "ca712669",
   "metadata": {},
   "outputs": [
    {
     "data": {
      "text/html": [
       "<div>\n",
       "<style scoped>\n",
       "    .dataframe tbody tr th:only-of-type {\n",
       "        vertical-align: middle;\n",
       "    }\n",
       "\n",
       "    .dataframe tbody tr th {\n",
       "        vertical-align: top;\n",
       "    }\n",
       "\n",
       "    .dataframe thead th {\n",
       "        text-align: right;\n",
       "    }\n",
       "</style>\n",
       "<table border=\"1\" class=\"dataframe\">\n",
       "  <thead>\n",
       "    <tr style=\"text-align: right;\">\n",
       "      <th></th>\n",
       "      <th>순위</th>\n",
       "      <th>분류</th>\n",
       "      <th>상품명</th>\n",
       "      <th>판매금액</th>\n",
       "    </tr>\n",
       "  </thead>\n",
       "  <tbody>\n",
       "    <tr>\n",
       "      <th>0</th>\n",
       "      <td>1</td>\n",
       "      <td>한국대생</td>\n",
       "      <td>한국대생 요금제</td>\n",
       "      <td>2,000원</td>\n",
       "    </tr>\n",
       "    <tr>\n",
       "      <th>1</th>\n",
       "      <td>2</td>\n",
       "      <td>심야-조조</td>\n",
       "      <td>심야-조조 요금제</td>\n",
       "      <td>5,000원</td>\n",
       "    </tr>\n",
       "    <tr>\n",
       "      <th>2</th>\n",
       "      <td>3</td>\n",
       "      <td>일반인</td>\n",
       "      <td>일반요금제</td>\n",
       "      <td>2,500원</td>\n",
       "    </tr>\n",
       "    <tr>\n",
       "      <th>3</th>\n",
       "      <td>4</td>\n",
       "      <td>한국대생</td>\n",
       "      <td>한국대생 요금제</td>\n",
       "      <td>2,500원</td>\n",
       "    </tr>\n",
       "    <tr>\n",
       "      <th>4</th>\n",
       "      <td>5</td>\n",
       "      <td>일반인</td>\n",
       "      <td>일반요금제</td>\n",
       "      <td>2,000원</td>\n",
       "    </tr>\n",
       "  </tbody>\n",
       "</table>\n",
       "</div>"
      ],
      "text/plain": [
       "   순위     분류        상품명    판매금액\n",
       "0   1   한국대생   한국대생 요금제  2,000원\n",
       "1   2  심야-조조  심야-조조 요금제  5,000원\n",
       "2   3    일반인      일반요금제  2,500원\n",
       "3   4   한국대생   한국대생 요금제  2,500원\n",
       "4   5    일반인      일반요금제  2,000원"
      ]
     },
     "execution_count": 6,
     "metadata": {},
     "output_type": "execute_result"
    }
   ],
   "source": [
    "# item_entry_data 데이터 정보 확인하기\n",
    "item_entry_data.head()"
   ]
  },
  {
   "cell_type": "code",
   "execution_count": 7,
   "id": "ed5cd1ba",
   "metadata": {},
   "outputs": [
    {
     "data": {
      "text/plain": [
       "심야-조조    10\n",
       "일반인       8\n",
       "한국대생      7\n",
       "18시이후     4\n",
       "기본        3\n",
       "기본그룹      2\n",
       "Name: 분류, dtype: int64"
      ]
     },
     "execution_count": 7,
     "metadata": {},
     "output_type": "execute_result"
    }
   ],
   "source": [
    "item_entry_data['분류'].value_counts()"
   ]
  },
  {
   "cell_type": "markdown",
   "id": "16e9f4ea",
   "metadata": {},
   "source": [
    "### (3) 데이터 전처리 - entry_data"
   ]
  },
  {
   "cell_type": "code",
   "execution_count": 8,
   "id": "f4513e47",
   "metadata": {},
   "outputs": [
    {
     "name": "stdout",
     "output_type": "stream",
     "text": [
      "전체 행 수\n",
      "22555\n",
      "7105\n",
      "174\n",
      "34\n",
      "\n",
      "중복행 수\n",
      "3234\n",
      "434\n",
      "0\n",
      "0\n"
     ]
    }
   ],
   "source": [
    "#전체 행 수와 중복행 확인\n",
    "print('전체 행 수')\n",
    "print(len(entry_data))\n",
    "print(len(sales_data))\n",
    "print(len(item_data))\n",
    "print(len(item_entry_data))\n",
    "\n",
    "print('')\n",
    "\n",
    "print('중복행 수')\n",
    "print(entry_data.duplicated().sum())\n",
    "print(sales_data.duplicated().sum())\n",
    "print(item_data.duplicated().sum())\n",
    "print(item_entry_data.duplicated().sum())"
   ]
  },
  {
   "cell_type": "markdown",
   "id": "4c3a0961",
   "metadata": {},
   "source": [
    "한 데이터 내에 중복된 값이 많으니까 제거를 해준다."
   ]
  },
  {
   "cell_type": "code",
   "execution_count": 9,
   "id": "42a24f13",
   "metadata": {},
   "outputs": [
    {
     "name": "stdout",
     "output_type": "stream",
     "text": [
      "19321\n",
      "6671\n"
     ]
    }
   ],
   "source": [
    "#중복행 제거\n",
    "entry_data_n = entry_data.drop_duplicates()\n",
    "sales_data_n = sales_data.drop_duplicates()\n",
    "\n",
    "print(len(entry_data_n))\n",
    "print(len(sales_data_n))"
   ]
  },
  {
   "cell_type": "markdown",
   "id": "3cbc53b6",
   "metadata": {},
   "source": [
    "요금제명 컬럼에 해당하는 데이터가 너무 중구난방하게 많다. 비슷한 요금제명끼리 통일해서 묶어준다."
   ]
  },
  {
   "cell_type": "code",
   "execution_count": 10,
   "id": "bdb02a2a",
   "metadata": {},
   "outputs": [
    {
     "data": {
      "text/plain": [
       "array(['시간요금제(1시간)', '무제한 입장권', '한국대생 무제한 입장권', '기간권', '시간요금제(3시간)',\n",
       "       '심야-조조무제한', '시간권', nan, '입장권(종일권)', '한국대생 입장권(종일권)', '1시간',\n",
       "       '조조무제한', '18시이후 무제한', '3시간', '심야-조조무제한(06시까지)', '이용권',\n",
       "       '시간 요금제(1시간당)', '시간요금제(1시간당)', '무제한(한국대생)', '1시간 요금제', '무제한(일반요금)',\n",
       "       '종일요금제', '시간요금제'], dtype=object)"
      ]
     },
     "execution_count": 10,
     "metadata": {},
     "output_type": "execute_result"
    }
   ],
   "source": [
    "entry_data_n['요금제명'].unique()"
   ]
  },
  {
   "cell_type": "code",
   "execution_count": 11,
   "id": "13711d57",
   "metadata": {},
   "outputs": [],
   "source": [
    "#1시간 요금제 통일\n",
    "entry_data_n = entry_data_n.replace({'요금제명' : '시간 요금제(1시간당)'}, '시간요금제(1시간)')\n",
    "entry_data_n = entry_data_n.replace({'요금제명' : '시간요금제(1시간당)'}, '시간요금제(1시간)')\n",
    "entry_data_n = entry_data_n.replace({'요금제명' : '1시간 요금제'}, '시간요금제(1시간)')\n",
    "entry_data_n = entry_data_n.replace({'요금제명' : '1시간'}, '시간요금제(1시간)')\n",
    "\n",
    "#3시간 요금제 통일\n",
    "entry_data_n = entry_data_n.replace({'요금제명' : '3시간'}, '시간요금제(3시간)')\n",
    "\n",
    "#일반 무제한 통일\n",
    "entry_data_n = entry_data_n.replace({'요금제명' : '무제한 입장권'}, '무제한(일반)')\n",
    "entry_data_n = entry_data_n.replace({'요금제명' : '입장권 (종일권)'}, '무제한(일반)')\n",
    "entry_data_n = entry_data_n.replace({'요금제명' : '무제한 입장권'}, '무제한(일반)')\n",
    "entry_data_n = entry_data_n.replace({'요금제명' : '무제한(일반요금)'}, '무제한(일반)')\n",
    "entry_data_n = entry_data_n.replace({'요금제명' : '종일요금제'}, '무제한(일반)')\n",
    "entry_data_n = entry_data_n.replace({'요금제명' : '입장권(종일권)'}, '무제한(일반)')\n",
    "entry_data_n = entry_data_n.replace({'요금제명' : '시간권'}, '무제한(일반)')\n",
    "entry_data_n = entry_data_n.replace({'요금제명' : '이용권'}, '무제한(일반)')\n",
    "entry_data_n = entry_data_n.replace({'요금제명' : '시간요금제'}, '무제한(일반)')\n",
    "entry_data_n = entry_data_n.replace({'요금제명' : '기간권'}, '무제한(일반)')\n",
    "\n",
    "#한국대 무제한 통일\n",
    "entry_data_n = entry_data_n.replace({'요금제명' : '한국대생 무제한 입장권'}, '무제한(한국대생)')\n",
    "entry_data_n = entry_data_n.replace({'요금제명' : '한국대생 입장권(종일권)'}, '무제한(한국대생)')\n",
    "\n",
    "#심야 무제한 통일\n",
    "entry_data_n = entry_data_n.replace({'요금제명' : '심야-조조무제한'}, '무제한(야간)')\n",
    "entry_data_n = entry_data_n.replace({'요금제명' : '조조무제한'}, '무제한(야간)')\n",
    "entry_data_n = entry_data_n.replace({'요금제명' : '18시이후 무제한'}, '무제한(야간)')\n",
    "entry_data_n = entry_data_n.replace({'요금제명' : '심야-조조무제한(06시까지)'}, '무제한(야간)')"
   ]
  },
  {
   "cell_type": "code",
   "execution_count": 12,
   "id": "beae20e6",
   "metadata": {},
   "outputs": [
    {
     "data": {
      "text/plain": [
       "array(['시간요금제(1시간)', '무제한(일반)', '무제한(한국대생)', '시간요금제(3시간)', '무제한(야간)', nan],\n",
       "      dtype=object)"
      ]
     },
     "execution_count": 12,
     "metadata": {},
     "output_type": "execute_result"
    }
   ],
   "source": [
    "entry_data_n['요금제명'].unique()"
   ]
  },
  {
   "cell_type": "code",
   "execution_count": 13,
   "id": "214c6452",
   "metadata": {},
   "outputs": [
    {
     "data": {
      "text/plain": [
       "array(['시간요금제(1시간)', '무제한(일반)', '무제한(한국대생)', '시간요금제(3시간)', '무제한(야간)'],\n",
       "      dtype=object)"
      ]
     },
     "execution_count": 13,
     "metadata": {},
     "output_type": "execute_result"
    }
   ],
   "source": [
    "#결측행 제거\n",
    "entry_data_n.dropna(how='any', axis=0, inplace = True)\n",
    "entry_data_n['요금제명'].unique()"
   ]
  },
  {
   "cell_type": "code",
   "execution_count": 14,
   "id": "13b16336",
   "metadata": {},
   "outputs": [
    {
     "name": "stdout",
     "output_type": "stream",
     "text": [
      "<class 'pandas.core.frame.DataFrame'>\n",
      "Int64Index: 19090 entries, 0 to 22554\n",
      "Data columns (total 8 columns):\n",
      " #   Column  Non-Null Count  Dtype \n",
      "---  ------  --------------  ----- \n",
      " 0   요금제명    19090 non-null  object\n",
      " 1   입실      19090 non-null  object\n",
      " 2   퇴실      19090 non-null  object\n",
      " 3   이용      19090 non-null  object\n",
      " 4   위치      19090 non-null  object\n",
      " 5   금액      19090 non-null  int64 \n",
      " 6   구분      19090 non-null  object\n",
      " 7   고객      19090 non-null  object\n",
      "dtypes: int64(1), object(7)\n",
      "memory usage: 1.3+ MB\n"
     ]
    }
   ],
   "source": [
    "entry_data_n.info()"
   ]
  },
  {
   "cell_type": "markdown",
   "id": "7afe9ea6",
   "metadata": {},
   "source": [
    "### (4) 모두카페현황 - 월별 매출액 추세(sales_data)"
   ]
  },
  {
   "cell_type": "code",
   "execution_count": 15,
   "id": "f68a7ef3",
   "metadata": {
    "scrolled": true
   },
   "outputs": [
    {
     "data": {
      "text/plain": [
       "일반요금제        8\n",
       "한국대생 요금제     7\n",
       "심야-조조 요금제    7\n",
       "기본요금제        5\n",
       "거리두기4단계      3\n",
       "추석당일 요금제     3\n",
       "마감요금         1\n",
       "Name: 상품명, dtype: int64"
      ]
     },
     "execution_count": 15,
     "metadata": {},
     "output_type": "execute_result"
    }
   ],
   "source": [
    "item_entry_data['상품명'].value_counts()"
   ]
  },
  {
   "cell_type": "code",
   "execution_count": 16,
   "id": "67b38a1b",
   "metadata": {},
   "outputs": [],
   "source": [
    "# 문제 1: 월별 매출액 추세\n",
    "# 활용할 데이터(sales_data)를 temp_var로 정의하기\n",
    "temp_var = sales_data.copy()\n",
    "\n",
    "# temp_var의 date열을 만들고, sales_date의 결제일시 중 앞에서 7번째 값까지 할당\n",
    "temp_var['date'] = temp_var['결제일시'].str[:7]"
   ]
  },
  {
   "cell_type": "code",
   "execution_count": 17,
   "id": "449f48bb",
   "metadata": {},
   "outputs": [
    {
     "data": {
      "text/html": [
       "<div>\n",
       "<style scoped>\n",
       "    .dataframe tbody tr th:only-of-type {\n",
       "        vertical-align: middle;\n",
       "    }\n",
       "\n",
       "    .dataframe tbody tr th {\n",
       "        vertical-align: top;\n",
       "    }\n",
       "\n",
       "    .dataframe thead th {\n",
       "        text-align: right;\n",
       "    }\n",
       "</style>\n",
       "<table border=\"1\" class=\"dataframe\">\n",
       "  <thead>\n",
       "    <tr style=\"text-align: right;\">\n",
       "      <th></th>\n",
       "      <th>결제일시</th>\n",
       "      <th>판매위치</th>\n",
       "      <th>상품명</th>\n",
       "      <th>결제방식</th>\n",
       "      <th>비고</th>\n",
       "      <th>판매수량</th>\n",
       "      <th>결제금액</th>\n",
       "      <th>고객</th>\n",
       "      <th>date</th>\n",
       "    </tr>\n",
       "  </thead>\n",
       "  <tbody>\n",
       "    <tr>\n",
       "      <th>0</th>\n",
       "      <td>2022-04-01 19:41</td>\n",
       "      <td>선불기1</td>\n",
       "      <td>치킨카라아케 6pc</td>\n",
       "      <td>신용카드</td>\n",
       "      <td>결제완료</td>\n",
       "      <td>1</td>\n",
       "      <td>4,500</td>\n",
       "      <td>customer275507</td>\n",
       "      <td>2022-04</td>\n",
       "    </tr>\n",
       "    <tr>\n",
       "      <th>1</th>\n",
       "      <td>2022-04-01 19:41</td>\n",
       "      <td>선불기1</td>\n",
       "      <td>짜장라면(계란추가)</td>\n",
       "      <td>신용카드</td>\n",
       "      <td>결제완료</td>\n",
       "      <td>1</td>\n",
       "      <td>5,500</td>\n",
       "      <td>customer275507</td>\n",
       "      <td>2022-04</td>\n",
       "    </tr>\n",
       "  </tbody>\n",
       "</table>\n",
       "</div>"
      ],
      "text/plain": [
       "               결제일시  판매위치         상품명  결제방식    비고  판매수량   결제금액  \\\n",
       "0  2022-04-01 19:41  선불기1  치킨카라아케 6pc  신용카드  결제완료     1  4,500   \n",
       "1  2022-04-01 19:41  선불기1  짜장라면(계란추가)  신용카드  결제완료     1  5,500   \n",
       "\n",
       "               고객     date  \n",
       "0  customer275507  2022-04  \n",
       "1  customer275507  2022-04  "
      ]
     },
     "execution_count": 17,
     "metadata": {},
     "output_type": "execute_result"
    }
   ],
   "source": [
    "temp_var.head(2)"
   ]
  },
  {
   "cell_type": "code",
   "execution_count": 18,
   "id": "8de04e85",
   "metadata": {},
   "outputs": [],
   "source": [
    "# sales_data의 결제금액에 포함된 쉼표(,) 지우기\n",
    "temp_var['결제금액'] = temp_var['결제금액'].str.replace(',', '')\n",
    "\n",
    "# sales_data의 결제금액을 숫자형태로 바꾸기\n",
    "temp_var['결제금액'] = temp_var['결제금액'].astype(int)\n",
    "\n",
    "# temp_var의 payment열을 date 기준으로 집계하기\n",
    "payment_data = temp_var['결제금액'].groupby(temp_var['date']).sum()"
   ]
  },
  {
   "cell_type": "code",
   "execution_count": 19,
   "id": "0bdb9b1e",
   "metadata": {},
   "outputs": [
    {
     "data": {
      "text/plain": [
       "date\n",
       "2021-02       7000\n",
       "2021-03    2104500\n",
       "2021-04    3116600\n",
       "2021-05    2537000\n",
       "2021-06    3621500\n",
       "2021-07    1215000\n",
       "2021-08    1229000\n",
       "2021-09    1197500\n",
       "2021-10    2138500\n",
       "2021-11    2748500\n",
       "2021-12    3290000\n",
       "2022-01    1430500\n",
       "2022-02    1181500\n",
       "2022-03    1870900\n",
       "2022-04      49900\n",
       "Name: 결제금액, dtype: int64"
      ]
     },
     "execution_count": 19,
     "metadata": {},
     "output_type": "execute_result"
    }
   ],
   "source": [
    "payment_data"
   ]
  },
  {
   "cell_type": "code",
   "execution_count": 20,
   "id": "7dc2ec7e",
   "metadata": {},
   "outputs": [
    {
     "data": {
      "image/png": "[encoded data removed]",
      "text/plain": [
       "<Figure size 1000x600 with 1 Axes>"
      ]
     },
     "metadata": {},
     "output_type": "display_data"
    }
   ],
   "source": [
    "# 집계 결과를 시각화하기\n",
    "plt.figure(figsize=(10, 6))\n",
    "sns.barplot(payment_data.index, payment_data.values)\n",
    "\n",
    "plt.title('월별 결제금액 합')\n",
    "plt.xlabel('날짜')\n",
    "plt.ylabel('결제금액')\n",
    "plt.xticks(rotation = 45)\n",
    "\n",
    "plt.tight_layout()\n",
    "plt.show()"
   ]
  },
  {
   "cell_type": "markdown",
   "id": "8995df5e",
   "metadata": {},
   "source": [
    "시험기간인 4월, 6월, 10월\\~12월에 모두 카페 이용률이 상승, 방학기간인 7월\\~9월에 하락"
   ]
  },
  {
   "cell_type": "markdown",
   "id": "a3abcb00",
   "metadata": {},
   "source": [
    "### (5) 모두카페현황 - 가장 인기있는 음식/음료(sales_data)"
   ]
  },
  {
   "cell_type": "code",
   "execution_count": 21,
   "id": "c0388745",
   "metadata": {
    "scrolled": true
   },
   "outputs": [
    {
     "data": {
      "text/plain": [
       " 1    6945\n",
       "-1     160\n",
       "Name: 판매수량, dtype: int64"
      ]
     },
     "execution_count": 21,
     "metadata": {},
     "output_type": "execute_result"
    }
   ],
   "source": [
    "temp_var['판매수량'].value_counts()"
   ]
  },
  {
   "cell_type": "code",
   "execution_count": 22,
   "id": "c348c859",
   "metadata": {},
   "outputs": [
    {
     "data": {
      "text/html": [
       "<div>\n",
       "<style scoped>\n",
       "    .dataframe tbody tr th:only-of-type {\n",
       "        vertical-align: middle;\n",
       "    }\n",
       "\n",
       "    .dataframe tbody tr th {\n",
       "        vertical-align: top;\n",
       "    }\n",
       "\n",
       "    .dataframe thead th {\n",
       "        text-align: right;\n",
       "    }\n",
       "</style>\n",
       "<table border=\"1\" class=\"dataframe\">\n",
       "  <thead>\n",
       "    <tr style=\"text-align: right;\">\n",
       "      <th></th>\n",
       "      <th>상품명</th>\n",
       "      <th>판매량</th>\n",
       "    </tr>\n",
       "  </thead>\n",
       "  <tbody>\n",
       "    <tr>\n",
       "      <th>0</th>\n",
       "      <td>김치볶음밥</td>\n",
       "      <td>1204</td>\n",
       "    </tr>\n",
       "    <tr>\n",
       "      <th>1</th>\n",
       "      <td>라면</td>\n",
       "      <td>749</td>\n",
       "    </tr>\n",
       "    <tr>\n",
       "      <th>2</th>\n",
       "      <td>짜장라면</td>\n",
       "      <td>455</td>\n",
       "    </tr>\n",
       "    <tr>\n",
       "      <th>3</th>\n",
       "      <td>치즈불고기볶음밥</td>\n",
       "      <td>420</td>\n",
       "    </tr>\n",
       "    <tr>\n",
       "      <th>4</th>\n",
       "      <td>계란추가</td>\n",
       "      <td>314</td>\n",
       "    </tr>\n",
       "    <tr>\n",
       "      <th>5</th>\n",
       "      <td>낙지볶음밥</td>\n",
       "      <td>312</td>\n",
       "    </tr>\n",
       "    <tr>\n",
       "      <th>6</th>\n",
       "      <td>새우볶음밥</td>\n",
       "      <td>309</td>\n",
       "    </tr>\n",
       "    <tr>\n",
       "      <th>7</th>\n",
       "      <td>아메리카노(ICE)</td>\n",
       "      <td>284</td>\n",
       "    </tr>\n",
       "    <tr>\n",
       "      <th>8</th>\n",
       "      <td>치즈감자튀김</td>\n",
       "      <td>246</td>\n",
       "    </tr>\n",
       "    <tr>\n",
       "      <th>9</th>\n",
       "      <td>감자튀김</td>\n",
       "      <td>242</td>\n",
       "    </tr>\n",
       "  </tbody>\n",
       "</table>\n",
       "</div>"
      ],
      "text/plain": [
       "          상품명   판매량\n",
       "0       김치볶음밥  1204\n",
       "1          라면   749\n",
       "2        짜장라면   455\n",
       "3    치즈불고기볶음밥   420\n",
       "4        계란추가   314\n",
       "5       낙지볶음밥   312\n",
       "6       새우볶음밥   309\n",
       "7  아메리카노(ICE)   284\n",
       "8      치즈감자튀김   246\n",
       "9        감자튀김   242"
      ]
     },
     "execution_count": 22,
     "metadata": {},
     "output_type": "execute_result"
    }
   ],
   "source": [
    "# 문제 2: 가장 인기 있는 음식/음료\n",
    "# temp_var의 상품명을 value_counts를 이용해 집계하기\n",
    "# 주의! value_counts로 바로 집계하면 판매취소와 결제취소가 함께 집계됩니다.\n",
    "# 따라서 '판매수량' 칼럼 값이 '-1'인 데이터를 제외하고 집계해야 합니다.\n",
    "# 힌트 코드 : temp_var[temp_var['판매수량']==-1]\n",
    "temp_var[temp_var['판매수량'] != -1]['상품명'].value_counts()\n",
    "\n",
    "# 집계 결과를 데이터프레임으로 변환하고, 상위 10개 선정하기\n",
    "sales_cnt = temp_var[temp_var['판매수량'] != -1]['상품명'].value_counts()\n",
    "sales_cnt_df = pd.DataFrame({'상품명': sales_cnt.index, '판매량': sales_cnt.values})\n",
    "items_count = sales_cnt_df.head(10)\n",
    "items_count"
   ]
  },
  {
   "cell_type": "code",
   "execution_count": 23,
   "id": "9136f6e2",
   "metadata": {},
   "outputs": [
    {
     "data": {
      "image/png": "[encoded data removed]",
      "text/plain": [
       "<Figure size 1200x600 with 1 Axes>"
      ]
     },
     "metadata": {},
     "output_type": "display_data"
    }
   ],
   "source": [
    "# items_count 시각화\n",
    "plt.figure(figsize=(12, 6))\n",
    "sns.barplot(x='상품명', y='판매량', data=items_count, palette=\"viridis\")\n",
    "\n",
    "plt.title('상위 10개 상품 판매량')\n",
    "plt.xlabel('상품명')\n",
    "plt.ylabel('판매량')\n",
    "\n",
    "plt.tight_layout()\n",
    "plt.show()"
   ]
  },
  {
   "cell_type": "markdown",
   "id": "a95b64df",
   "metadata": {},
   "source": [
    "김치볶음밥과 라면 판매량이 높다."
   ]
  },
  {
   "cell_type": "code",
   "execution_count": 24,
   "id": "3221284c",
   "metadata": {},
   "outputs": [
    {
     "data": {
      "text/html": [
       "<div>\n",
       "<style scoped>\n",
       "    .dataframe tbody tr th:only-of-type {\n",
       "        vertical-align: middle;\n",
       "    }\n",
       "\n",
       "    .dataframe tbody tr th {\n",
       "        vertical-align: top;\n",
       "    }\n",
       "\n",
       "    .dataframe thead th {\n",
       "        text-align: right;\n",
       "    }\n",
       "</style>\n",
       "<table border=\"1\" class=\"dataframe\">\n",
       "  <thead>\n",
       "    <tr style=\"text-align: right;\">\n",
       "      <th></th>\n",
       "      <th>상품명</th>\n",
       "      <th>결제금액</th>\n",
       "    </tr>\n",
       "  </thead>\n",
       "  <tbody>\n",
       "    <tr>\n",
       "      <th>0</th>\n",
       "      <td>김치볶음밥</td>\n",
       "      <td>6004400</td>\n",
       "    </tr>\n",
       "    <tr>\n",
       "      <th>1</th>\n",
       "      <td>라면</td>\n",
       "      <td>2941500</td>\n",
       "    </tr>\n",
       "    <tr>\n",
       "      <th>2</th>\n",
       "      <td>치즈불고기볶음밥</td>\n",
       "      <td>2292600</td>\n",
       "    </tr>\n",
       "    <tr>\n",
       "      <th>3</th>\n",
       "      <td>짜장라면</td>\n",
       "      <td>2038500</td>\n",
       "    </tr>\n",
       "    <tr>\n",
       "      <th>4</th>\n",
       "      <td>낙지볶음밥</td>\n",
       "      <td>1710700</td>\n",
       "    </tr>\n",
       "    <tr>\n",
       "      <th>5</th>\n",
       "      <td>새우볶음밥</td>\n",
       "      <td>1539800</td>\n",
       "    </tr>\n",
       "    <tr>\n",
       "      <th>6</th>\n",
       "      <td>치즈감자튀김</td>\n",
       "      <td>1354200</td>\n",
       "    </tr>\n",
       "    <tr>\n",
       "      <th>7</th>\n",
       "      <td>감자튀김</td>\n",
       "      <td>1083800</td>\n",
       "    </tr>\n",
       "    <tr>\n",
       "      <th>8</th>\n",
       "      <td>아메리카노(ICE)</td>\n",
       "      <td>1058100</td>\n",
       "    </tr>\n",
       "    <tr>\n",
       "      <th>9</th>\n",
       "      <td>불닭볶음면</td>\n",
       "      <td>693000</td>\n",
       "    </tr>\n",
       "  </tbody>\n",
       "</table>\n",
       "</div>"
      ],
      "text/plain": [
       "          상품명     결제금액\n",
       "0       김치볶음밥  6004400\n",
       "1          라면  2941500\n",
       "2    치즈불고기볶음밥  2292600\n",
       "3        짜장라면  2038500\n",
       "4       낙지볶음밥  1710700\n",
       "5       새우볶음밥  1539800\n",
       "6      치즈감자튀김  1354200\n",
       "7        감자튀김  1083800\n",
       "8  아메리카노(ICE)  1058100\n",
       "9       불닭볶음면   693000"
      ]
     },
     "execution_count": 24,
     "metadata": {},
     "output_type": "execute_result"
    }
   ],
   "source": [
    "# temp_var의 payment열을 상품명을 기준으로 집계하기\n",
    "temp_var = temp_var[temp_var['판매수량'] != -1]\n",
    "items_payment = temp_var['결제금액'].groupby(temp_var['상품명']).sum()\n",
    "\n",
    "# item_payment의 값을 내림차순으로 정렬하고 상위 10개 도출하기\n",
    "items_payment = items_payment.sort_values(ascending=False).head(10)\n",
    "items_payment = pd.DataFrame({'상품명': items_payment.index, '결제금액': items_payment.values})\n",
    "items_payment"
   ]
  },
  {
   "cell_type": "code",
   "execution_count": 25,
   "id": "cf7bc3e6",
   "metadata": {
    "scrolled": false
   },
   "outputs": [
    {
     "data": {
      "image/png": "[encoded data removed]",
      "text/plain": [
       "<Figure size 1200x600 with 1 Axes>"
      ]
     },
     "metadata": {},
     "output_type": "display_data"
    }
   ],
   "source": [
    "# items_payment 시각화\n",
    "plt.figure(figsize=(12, 6))\n",
    "sns.barplot(x='상품명', y='결제금액', data=items_payment, palette=\"viridis\")\n",
    "\n",
    "plt.title('상위 10개 상품 매출')\n",
    "plt.xlabel('상품명')\n",
    "plt.ylabel('결제금액')\n",
    "\n",
    "plt.tight_layout()\n",
    "plt.show()"
   ]
  },
  {
   "cell_type": "markdown",
   "id": "0525334c",
   "metadata": {},
   "source": [
    "### (6) 모두카페현황 - 가장 많이 팔린 입장권 종류(entry_data)"
   ]
  },
  {
   "cell_type": "code",
   "execution_count": 26,
   "id": "cd1f2f68",
   "metadata": {},
   "outputs": [
    {
     "data": {
      "text/html": [
       "<div>\n",
       "<style scoped>\n",
       "    .dataframe tbody tr th:only-of-type {\n",
       "        vertical-align: middle;\n",
       "    }\n",
       "\n",
       "    .dataframe tbody tr th {\n",
       "        vertical-align: top;\n",
       "    }\n",
       "\n",
       "    .dataframe thead th {\n",
       "        text-align: right;\n",
       "    }\n",
       "</style>\n",
       "<table border=\"1\" class=\"dataframe\">\n",
       "  <thead>\n",
       "    <tr style=\"text-align: right;\">\n",
       "      <th></th>\n",
       "      <th>요금제명</th>\n",
       "      <th>입실</th>\n",
       "      <th>퇴실</th>\n",
       "      <th>이용</th>\n",
       "      <th>위치</th>\n",
       "      <th>금액</th>\n",
       "      <th>구분</th>\n",
       "      <th>고객</th>\n",
       "    </tr>\n",
       "  </thead>\n",
       "  <tbody>\n",
       "    <tr>\n",
       "      <th>0</th>\n",
       "      <td>시간요금제(1시간)</td>\n",
       "      <td>2022-04-01 23:39</td>\n",
       "      <td>2022-04-02 0:39</td>\n",
       "      <td>오전 1:00:00</td>\n",
       "      <td>선불기2</td>\n",
       "      <td>3000</td>\n",
       "      <td>퇴실</td>\n",
       "      <td>customer263717</td>\n",
       "    </tr>\n",
       "    <tr>\n",
       "      <th>2</th>\n",
       "      <td>무제한(일반)</td>\n",
       "      <td>2022-04-01 20:55</td>\n",
       "      <td>2022-04-01 21:41</td>\n",
       "      <td>오전 12:46:00</td>\n",
       "      <td>선불기2</td>\n",
       "      <td>7400</td>\n",
       "      <td>퇴실</td>\n",
       "      <td>customer247263</td>\n",
       "    </tr>\n",
       "    <tr>\n",
       "      <th>4</th>\n",
       "      <td>무제한(한국대생)</td>\n",
       "      <td>2022-04-01 19:54</td>\n",
       "      <td>2022-04-01 22:28</td>\n",
       "      <td>오전 2:33:00</td>\n",
       "      <td>선불기2</td>\n",
       "      <td>7400</td>\n",
       "      <td>퇴실</td>\n",
       "      <td>customer388928</td>\n",
       "    </tr>\n",
       "    <tr>\n",
       "      <th>7</th>\n",
       "      <td>무제한(한국대생)</td>\n",
       "      <td>2022-04-01 19:32</td>\n",
       "      <td>2022-04-01 22:28</td>\n",
       "      <td>오전 2:56:00</td>\n",
       "      <td>선불기2</td>\n",
       "      <td>6400</td>\n",
       "      <td>퇴실</td>\n",
       "      <td>customer498538</td>\n",
       "    </tr>\n",
       "    <tr>\n",
       "      <th>11</th>\n",
       "      <td>무제한(한국대생)</td>\n",
       "      <td>2022-04-01 18:46</td>\n",
       "      <td>2022-04-01 21:38</td>\n",
       "      <td>오전 2:52:00</td>\n",
       "      <td>선불기2</td>\n",
       "      <td>6400</td>\n",
       "      <td>퇴실</td>\n",
       "      <td>customer899296</td>\n",
       "    </tr>\n",
       "  </tbody>\n",
       "</table>\n",
       "</div>"
      ],
      "text/plain": [
       "          요금제명                입실                퇴실           이용    위치    금액  \\\n",
       "0   시간요금제(1시간)  2022-04-01 23:39   2022-04-02 0:39   오전 1:00:00  선불기2  3000   \n",
       "2      무제한(일반)  2022-04-01 20:55  2022-04-01 21:41  오전 12:46:00  선불기2  7400   \n",
       "4    무제한(한국대생)  2022-04-01 19:54  2022-04-01 22:28   오전 2:33:00  선불기2  7400   \n",
       "7    무제한(한국대생)  2022-04-01 19:32  2022-04-01 22:28   오전 2:56:00  선불기2  6400   \n",
       "11   무제한(한국대생)  2022-04-01 18:46  2022-04-01 21:38   오전 2:52:00  선불기2  6400   \n",
       "\n",
       "    구분              고객  \n",
       "0   퇴실  customer263717  \n",
       "2   퇴실  customer247263  \n",
       "4   퇴실  customer388928  \n",
       "7   퇴실  customer498538  \n",
       "11  퇴실  customer899296  "
      ]
     },
     "execution_count": 26,
     "metadata": {},
     "output_type": "execute_result"
    }
   ],
   "source": [
    "# 활용할 데이터(entry_data)를 temp_var로 정의하기\n",
    "temp_var = entry_data_n.copy()\n",
    "temp_var.head()"
   ]
  },
  {
   "cell_type": "code",
   "execution_count": 27,
   "id": "17b53a44",
   "metadata": {},
   "outputs": [
    {
     "name": "stdout",
     "output_type": "stream",
     "text": [
      "<class 'pandas.core.frame.DataFrame'>\n",
      "Int64Index: 19090 entries, 0 to 22554\n",
      "Data columns (total 8 columns):\n",
      " #   Column  Non-Null Count  Dtype \n",
      "---  ------  --------------  ----- \n",
      " 0   요금제명    19090 non-null  object\n",
      " 1   입실      19090 non-null  object\n",
      " 2   퇴실      19090 non-null  object\n",
      " 3   이용      19090 non-null  object\n",
      " 4   위치      19090 non-null  object\n",
      " 5   금액      19090 non-null  int64 \n",
      " 6   구분      19090 non-null  object\n",
      " 7   고객      19090 non-null  object\n",
      "dtypes: int64(1), object(7)\n",
      "memory usage: 1.3+ MB\n"
     ]
    }
   ],
   "source": [
    "temp_var.info()"
   ]
  },
  {
   "cell_type": "code",
   "execution_count": 28,
   "id": "0fe05c06",
   "metadata": {
    "scrolled": true
   },
   "outputs": [
    {
     "data": {
      "text/html": [
       "<div>\n",
       "<style scoped>\n",
       "    .dataframe tbody tr th:only-of-type {\n",
       "        vertical-align: middle;\n",
       "    }\n",
       "\n",
       "    .dataframe tbody tr th {\n",
       "        vertical-align: top;\n",
       "    }\n",
       "\n",
       "    .dataframe thead th {\n",
       "        text-align: right;\n",
       "    }\n",
       "</style>\n",
       "<table border=\"1\" class=\"dataframe\">\n",
       "  <thead>\n",
       "    <tr style=\"text-align: right;\">\n",
       "      <th></th>\n",
       "      <th>요금제명</th>\n",
       "      <th>결제금액</th>\n",
       "    </tr>\n",
       "  </thead>\n",
       "  <tbody>\n",
       "    <tr>\n",
       "      <th>0</th>\n",
       "      <td>무제한(한국대생)</td>\n",
       "      <td>67382300</td>\n",
       "    </tr>\n",
       "    <tr>\n",
       "      <th>1</th>\n",
       "      <td>무제한(일반)</td>\n",
       "      <td>21868200</td>\n",
       "    </tr>\n",
       "    <tr>\n",
       "      <th>2</th>\n",
       "      <td>무제한(야간)</td>\n",
       "      <td>15144000</td>\n",
       "    </tr>\n",
       "    <tr>\n",
       "      <th>3</th>\n",
       "      <td>시간요금제(1시간)</td>\n",
       "      <td>1857000</td>\n",
       "    </tr>\n",
       "    <tr>\n",
       "      <th>4</th>\n",
       "      <td>시간요금제(3시간)</td>\n",
       "      <td>1357000</td>\n",
       "    </tr>\n",
       "  </tbody>\n",
       "</table>\n",
       "</div>"
      ],
      "text/plain": [
       "         요금제명      결제금액\n",
       "0   무제한(한국대생)  67382300\n",
       "1     무제한(일반)  21868200\n",
       "2     무제한(야간)  15144000\n",
       "3  시간요금제(1시간)   1857000\n",
       "4  시간요금제(3시간)   1357000"
      ]
     },
     "execution_count": 28,
     "metadata": {},
     "output_type": "execute_result"
    }
   ],
   "source": [
    "# temp_var의 금액을 숫자형태로 변환하기\n",
    "temp_var['금액'] = temp_var['금액'].astype(int)\n",
    "\n",
    "# temp_var의 금액을 요금제명을 기준으로 집계하기\n",
    "fee_payment = temp_var['금액'].groupby(temp_var['요금제명']).sum()\n",
    "\n",
    "# tickets의 값을 내림차순으로 정렬하고 상위 10개 도출하기\n",
    "fee_payment = fee_payment.sort_values(ascending=False)\n",
    "fee_payment = pd.DataFrame({'요금제명': fee_payment.index, '결제금액': fee_payment.values})\n",
    "fee_payment"
   ]
  },
  {
   "cell_type": "code",
   "execution_count": 29,
   "id": "c11a8dbd",
   "metadata": {},
   "outputs": [
    {
     "data": {
      "image/png": "[encoded data removed]",
      "text/plain": [
       "<Figure size 1200x600 with 1 Axes>"
      ]
     },
     "metadata": {},
     "output_type": "display_data"
    }
   ],
   "source": [
    "# fee_payment 시각화\n",
    "plt.figure(figsize=(12, 6))\n",
    "sns.barplot(x='요금제명', y='결제금액', data=fee_payment, palette=\"viridis\")\n",
    "\n",
    "plt.title('요금제 매출')\n",
    "plt.xlabel('요금제명')\n",
    "plt.ylabel('결제금액')\n",
    "plt.xticks(rotation = 45)\n",
    "\n",
    "plt.tight_layout()\n",
    "plt.show()"
   ]
  },
  {
   "cell_type": "code",
   "execution_count": 30,
   "id": "9e871701",
   "metadata": {},
   "outputs": [
    {
     "data": {
      "image/png": "[encoded data removed]",
      "text/plain": [
       "<Figure size 800x800 with 1 Axes>"
      ]
     },
     "metadata": {},
     "output_type": "display_data"
    }
   ],
   "source": [
    "# 파이 차트로 비율 시각화\n",
    "plt.figure(figsize=(8, 8))\n",
    "plt.pie(fee_payment['결제금액'], labels = fee_payment['요금제명'], autopct='%1.1f%%', startangle=140)\n",
    "\n",
    "plt.title('요금제별 결제금액 비율')\n",
    "plt.show()"
   ]
  },
  {
   "cell_type": "markdown",
   "id": "ff3d5980",
   "metadata": {},
   "source": [
    "무제한(한국대생) 요금제가 압도적으로 많이 팔렸다."
   ]
  },
  {
   "cell_type": "markdown",
   "id": "91070a74",
   "metadata": {},
   "source": [
    "### (7) 데이터 분석 - 상품 분석"
   ]
  },
  {
   "cell_type": "markdown",
   "id": "37bcbc56",
   "metadata": {},
   "source": [
    "#### ■ 무슨 시간대에 무슨 상품이 많이 팔릴까?"
   ]
  },
  {
   "cell_type": "code",
   "execution_count": 31,
   "id": "4bb23399",
   "metadata": {},
   "outputs": [],
   "source": [
    "# 시간대별 결제금액을 구하기 위해 sales_data 복사\n",
    "temp_var = sales_data.copy()\n",
    "\n",
    "# '결제일시' 컬럼 타입 변환\n",
    "temp_var['결제일시'] = pd.to_datetime(temp_var['결제일시'])\n",
    "# 결제 시간 컬럼 생성\n",
    "temp_var['time'] = temp_var['결제일시'].dt.hour"
   ]
  },
  {
   "cell_type": "code",
   "execution_count": 32,
   "id": "48f15815",
   "metadata": {},
   "outputs": [
    {
     "data": {
      "text/html": [
       "<div>\n",
       "<style scoped>\n",
       "    .dataframe tbody tr th:only-of-type {\n",
       "        vertical-align: middle;\n",
       "    }\n",
       "\n",
       "    .dataframe tbody tr th {\n",
       "        vertical-align: top;\n",
       "    }\n",
       "\n",
       "    .dataframe thead th {\n",
       "        text-align: right;\n",
       "    }\n",
       "</style>\n",
       "<table border=\"1\" class=\"dataframe\">\n",
       "  <thead>\n",
       "    <tr style=\"text-align: right;\">\n",
       "      <th></th>\n",
       "      <th>결제일시</th>\n",
       "      <th>판매위치</th>\n",
       "      <th>상품명</th>\n",
       "      <th>결제방식</th>\n",
       "      <th>비고</th>\n",
       "      <th>판매수량</th>\n",
       "      <th>결제금액</th>\n",
       "      <th>고객</th>\n",
       "      <th>time</th>\n",
       "    </tr>\n",
       "  </thead>\n",
       "  <tbody>\n",
       "    <tr>\n",
       "      <th>0</th>\n",
       "      <td>2022-04-01 19:41:00</td>\n",
       "      <td>선불기1</td>\n",
       "      <td>치킨카라아케 6pc</td>\n",
       "      <td>신용카드</td>\n",
       "      <td>결제완료</td>\n",
       "      <td>1</td>\n",
       "      <td>4,500</td>\n",
       "      <td>customer275507</td>\n",
       "      <td>19</td>\n",
       "    </tr>\n",
       "    <tr>\n",
       "      <th>1</th>\n",
       "      <td>2022-04-01 19:41:00</td>\n",
       "      <td>선불기1</td>\n",
       "      <td>짜장라면(계란추가)</td>\n",
       "      <td>신용카드</td>\n",
       "      <td>결제완료</td>\n",
       "      <td>1</td>\n",
       "      <td>5,500</td>\n",
       "      <td>customer275507</td>\n",
       "      <td>19</td>\n",
       "    </tr>\n",
       "  </tbody>\n",
       "</table>\n",
       "</div>"
      ],
      "text/plain": [
       "                 결제일시  판매위치         상품명  결제방식    비고  판매수량   결제금액  \\\n",
       "0 2022-04-01 19:41:00  선불기1  치킨카라아케 6pc  신용카드  결제완료     1  4,500   \n",
       "1 2022-04-01 19:41:00  선불기1  짜장라면(계란추가)  신용카드  결제완료     1  5,500   \n",
       "\n",
       "               고객  time  \n",
       "0  customer275507    19  \n",
       "1  customer275507    19  "
      ]
     },
     "execution_count": 32,
     "metadata": {},
     "output_type": "execute_result"
    }
   ],
   "source": [
    "temp_var.head(2)"
   ]
  },
  {
   "cell_type": "code",
   "execution_count": 33,
   "id": "d0d5937d",
   "metadata": {
    "scrolled": true
   },
   "outputs": [
    {
     "name": "stdout",
     "output_type": "stream",
     "text": [
      "<class 'pandas.core.frame.DataFrame'>\n",
      "RangeIndex: 7105 entries, 0 to 7104\n",
      "Data columns (total 9 columns):\n",
      " #   Column  Non-Null Count  Dtype         \n",
      "---  ------  --------------  -----         \n",
      " 0   결제일시    7105 non-null   datetime64[ns]\n",
      " 1   판매위치    7105 non-null   object        \n",
      " 2   상품명     7105 non-null   object        \n",
      " 3   결제방식    7105 non-null   object        \n",
      " 4   비고      7105 non-null   object        \n",
      " 5   판매수량    7105 non-null   int64         \n",
      " 6   결제금액    7105 non-null   object        \n",
      " 7   고객      6300 non-null   object        \n",
      " 8   time    7105 non-null   int64         \n",
      "dtypes: datetime64[ns](1), int64(2), object(6)\n",
      "memory usage: 499.7+ KB\n"
     ]
    }
   ],
   "source": [
    "temp_var.info()"
   ]
  },
  {
   "cell_type": "code",
   "execution_count": 34,
   "id": "8636c67c",
   "metadata": {},
   "outputs": [],
   "source": [
    "# '결제금액' 컬럼 전처리\n",
    "temp_var['결제금액'] = temp_var['결제금액'].str.replace(',', '')\n",
    "temp_var['결제금액'] = temp_var['결제금액'].astype(int)\n",
    "\n",
    "# temp_var의 결제금액 열을 time기준으로 집계하기\n",
    "payment_time = temp_var['결제금액'].groupby(temp_var['time']).sum()"
   ]
  },
  {
   "cell_type": "code",
   "execution_count": 35,
   "id": "c2da72a4",
   "metadata": {},
   "outputs": [
    {
     "data": {
      "image/png": "[encoded data removed]",
      "text/plain": [
       "<Figure size 1000x600 with 1 Axes>"
      ]
     },
     "metadata": {},
     "output_type": "display_data"
    }
   ],
   "source": [
    "# 집계 결과를 시각화하기\n",
    "plt.figure(figsize=(10, 6))\n",
    "sns.barplot(payment_time.index, payment_time.values)\n",
    "\n",
    "plt.title('시간대별 결제금액 합')\n",
    "plt.xlabel('시간')\n",
    "plt.ylabel('결제금액')\n",
    "\n",
    "plt.tight_layout()\n",
    "plt.show()"
   ]
  },
  {
   "cell_type": "markdown",
   "id": "e4927c00",
   "metadata": {},
   "source": [
    "18시-19시 쯤에 음식을 구매하는 사람들이 많다. \n",
    "- 해당 시간대에 잘 판매되는 상품명을 분석해보자..! 이를 통해 인기 있는 상품을 파악하여 해당 상품의 마케팅을 강화하거나 관련 상품을 추천하는 전략을 세울 수 있다."
   ]
  },
  {
   "cell_type": "code",
   "execution_count": 36,
   "id": "6ae65331",
   "metadata": {},
   "outputs": [
    {
     "data": {
      "text/html": [
       "<div>\n",
       "<style scoped>\n",
       "    .dataframe tbody tr th:only-of-type {\n",
       "        vertical-align: middle;\n",
       "    }\n",
       "\n",
       "    .dataframe tbody tr th {\n",
       "        vertical-align: top;\n",
       "    }\n",
       "\n",
       "    .dataframe thead th {\n",
       "        text-align: right;\n",
       "    }\n",
       "</style>\n",
       "<table border=\"1\" class=\"dataframe\">\n",
       "  <thead>\n",
       "    <tr style=\"text-align: right;\">\n",
       "      <th>상품명</th>\n",
       "      <th>(면)계란추가-국물라면</th>\n",
       "      <th>(면)계란후라이 추가-불닭/짜장</th>\n",
       "      <th>(면)치즈추가</th>\n",
       "      <th>(밥)계란후라이 추가</th>\n",
       "      <th>(밥)슈레드치즈추가</th>\n",
       "      <th>2인라면</th>\n",
       "      <th>2인불닭</th>\n",
       "      <th>2인짜장라면</th>\n",
       "      <th>감자튀김</th>\n",
       "      <th>계란추가</th>\n",
       "      <th>...</th>\n",
       "      <th>쿠키(마카다미아)</th>\n",
       "      <th>쿠키(오트밀)</th>\n",
       "      <th>쿠키(초코칩)</th>\n",
       "      <th>크로플</th>\n",
       "      <th>페퍼민트(HOT)</th>\n",
       "      <th>페퍼민트(ICE)</th>\n",
       "      <th>플레인요거트스무디</th>\n",
       "      <th>한돈간장불고기덮밥</th>\n",
       "      <th>한돈고추장불고기덮밥</th>\n",
       "      <th>허니밀크쉐이크</th>\n",
       "    </tr>\n",
       "    <tr>\n",
       "      <th>time</th>\n",
       "      <th></th>\n",
       "      <th></th>\n",
       "      <th></th>\n",
       "      <th></th>\n",
       "      <th></th>\n",
       "      <th></th>\n",
       "      <th></th>\n",
       "      <th></th>\n",
       "      <th></th>\n",
       "      <th></th>\n",
       "      <th></th>\n",
       "      <th></th>\n",
       "      <th></th>\n",
       "      <th></th>\n",
       "      <th></th>\n",
       "      <th></th>\n",
       "      <th></th>\n",
       "      <th></th>\n",
       "      <th></th>\n",
       "      <th></th>\n",
       "      <th></th>\n",
       "    </tr>\n",
       "  </thead>\n",
       "  <tbody>\n",
       "    <tr>\n",
       "      <th>18</th>\n",
       "      <td>1</td>\n",
       "      <td>2</td>\n",
       "      <td>1</td>\n",
       "      <td>1</td>\n",
       "      <td>1</td>\n",
       "      <td>22</td>\n",
       "      <td>3</td>\n",
       "      <td>7</td>\n",
       "      <td>29</td>\n",
       "      <td>38</td>\n",
       "      <td>...</td>\n",
       "      <td>5</td>\n",
       "      <td>6</td>\n",
       "      <td>9</td>\n",
       "      <td>0</td>\n",
       "      <td>0</td>\n",
       "      <td>1</td>\n",
       "      <td>0</td>\n",
       "      <td>2</td>\n",
       "      <td>2</td>\n",
       "      <td>1</td>\n",
       "    </tr>\n",
       "    <tr>\n",
       "      <th>19</th>\n",
       "      <td>1</td>\n",
       "      <td>2</td>\n",
       "      <td>1</td>\n",
       "      <td>0</td>\n",
       "      <td>0</td>\n",
       "      <td>16</td>\n",
       "      <td>0</td>\n",
       "      <td>5</td>\n",
       "      <td>32</td>\n",
       "      <td>45</td>\n",
       "      <td>...</td>\n",
       "      <td>11</td>\n",
       "      <td>7</td>\n",
       "      <td>14</td>\n",
       "      <td>1</td>\n",
       "      <td>1</td>\n",
       "      <td>1</td>\n",
       "      <td>3</td>\n",
       "      <td>3</td>\n",
       "      <td>1</td>\n",
       "      <td>1</td>\n",
       "    </tr>\n",
       "  </tbody>\n",
       "</table>\n",
       "<p>2 rows × 82 columns</p>\n",
       "</div>"
      ],
      "text/plain": [
       "상품명   (면)계란추가-국물라면  (면)계란후라이 추가-불닭/짜장  (면)치즈추가  (밥)계란후라이 추가  (밥)슈레드치즈추가  2인라면  \\\n",
       "time                                                                            \n",
       "18               1                  2        1            1           1    22   \n",
       "19               1                  2        1            0           0    16   \n",
       "\n",
       "상품명   2인불닭  2인짜장라면  감자튀김  계란추가  ...  쿠키(마카다미아)  쿠키(오트밀)  쿠키(초코칩)  크로플  \\\n",
       "time                            ...                                     \n",
       "18       3       7    29    38  ...          5        6        9    0   \n",
       "19       0       5    32    45  ...         11        7       14    1   \n",
       "\n",
       "상품명   페퍼민트(HOT)  페퍼민트(ICE)  플레인요거트스무디  한돈간장불고기덮밥  한돈고추장불고기덮밥  허니밀크쉐이크  \n",
       "time                                                                   \n",
       "18            0          1          0          2           2        1  \n",
       "19            1          1          3          3           1        1  \n",
       "\n",
       "[2 rows x 82 columns]"
      ]
     },
     "execution_count": 36,
     "metadata": {},
     "output_type": "execute_result"
    }
   ],
   "source": [
    "# 18시, 19시에 해당하는 데이터만 추출\n",
    "time_18_19 = temp_var[(temp_var['time'] == 18) | (temp_var['time'] == 19)]\n",
    "hour_sales = time_18_19.groupby(['time', '상품명']).size().unstack(fill_value=0)\n",
    "hour_sales"
   ]
  },
  {
   "cell_type": "code",
   "execution_count": 37,
   "id": "11d1e21f",
   "metadata": {},
   "outputs": [
    {
     "data": {
      "text/html": [
       "<div>\n",
       "<style scoped>\n",
       "    .dataframe tbody tr th:only-of-type {\n",
       "        vertical-align: middle;\n",
       "    }\n",
       "\n",
       "    .dataframe tbody tr th {\n",
       "        vertical-align: top;\n",
       "    }\n",
       "\n",
       "    .dataframe thead th {\n",
       "        text-align: right;\n",
       "    }\n",
       "</style>\n",
       "<table border=\"1\" class=\"dataframe\">\n",
       "  <thead>\n",
       "    <tr style=\"text-align: right;\">\n",
       "      <th>상품명</th>\n",
       "      <th>2인라면</th>\n",
       "      <th>감자튀김</th>\n",
       "      <th>계란추가</th>\n",
       "      <th>김치볶음밥</th>\n",
       "      <th>낙지볶음밥</th>\n",
       "      <th>라면</th>\n",
       "      <th>만두라면</th>\n",
       "      <th>불닭볶음면</th>\n",
       "      <th>새우볶음밥</th>\n",
       "      <th>아메리카노(ICE)</th>\n",
       "      <th>아이스티</th>\n",
       "      <th>짜장라면</th>\n",
       "      <th>초코머핀</th>\n",
       "      <th>치즈감자튀김</th>\n",
       "      <th>치즈불고기볶음밥</th>\n",
       "      <th>치즈추가</th>\n",
       "      <th>카페모카(ICE)</th>\n",
       "      <th>쿠키(초코칩)</th>\n",
       "    </tr>\n",
       "    <tr>\n",
       "      <th>time</th>\n",
       "      <th></th>\n",
       "      <th></th>\n",
       "      <th></th>\n",
       "      <th></th>\n",
       "      <th></th>\n",
       "      <th></th>\n",
       "      <th></th>\n",
       "      <th></th>\n",
       "      <th></th>\n",
       "      <th></th>\n",
       "      <th></th>\n",
       "      <th></th>\n",
       "      <th></th>\n",
       "      <th></th>\n",
       "      <th></th>\n",
       "      <th></th>\n",
       "      <th></th>\n",
       "      <th></th>\n",
       "    </tr>\n",
       "  </thead>\n",
       "  <tbody>\n",
       "    <tr>\n",
       "      <th>18</th>\n",
       "      <td>22</td>\n",
       "      <td>29</td>\n",
       "      <td>38</td>\n",
       "      <td>209</td>\n",
       "      <td>69</td>\n",
       "      <td>102</td>\n",
       "      <td>20</td>\n",
       "      <td>31</td>\n",
       "      <td>45</td>\n",
       "      <td>18</td>\n",
       "      <td>16</td>\n",
       "      <td>62</td>\n",
       "      <td>14</td>\n",
       "      <td>29</td>\n",
       "      <td>66</td>\n",
       "      <td>33</td>\n",
       "      <td>30</td>\n",
       "      <td>0</td>\n",
       "    </tr>\n",
       "    <tr>\n",
       "      <th>19</th>\n",
       "      <td>16</td>\n",
       "      <td>32</td>\n",
       "      <td>45</td>\n",
       "      <td>167</td>\n",
       "      <td>45</td>\n",
       "      <td>79</td>\n",
       "      <td>21</td>\n",
       "      <td>30</td>\n",
       "      <td>46</td>\n",
       "      <td>25</td>\n",
       "      <td>0</td>\n",
       "      <td>60</td>\n",
       "      <td>20</td>\n",
       "      <td>27</td>\n",
       "      <td>72</td>\n",
       "      <td>19</td>\n",
       "      <td>0</td>\n",
       "      <td>14</td>\n",
       "    </tr>\n",
       "  </tbody>\n",
       "</table>\n",
       "</div>"
      ],
      "text/plain": [
       "상품명   2인라면  감자튀김  계란추가  김치볶음밥  낙지볶음밥   라면  만두라면  불닭볶음면  새우볶음밥  아메리카노(ICE)  \\\n",
       "time                                                                        \n",
       "18      22    29    38    209     69  102    20     31     45          18   \n",
       "19      16    32    45    167     45   79    21     30     46          25   \n",
       "\n",
       "상품명   아이스티  짜장라면  초코머핀  치즈감자튀김  치즈불고기볶음밥  치즈추가  카페모카(ICE)  쿠키(초코칩)  \n",
       "time                                                                \n",
       "18      16    62    14      29        66    33         30        0  \n",
       "19       0    60    20      27        72    19          0       14  "
      ]
     },
     "execution_count": 37,
     "metadata": {},
     "output_type": "execute_result"
    }
   ],
   "source": [
    "# 컬럼 수가 너무 많아 판매량이 낮은 컬럼은 제거(기준: 데이터 전체 평균 이하는 제거)\n",
    "hour_sales2 = hour_sales[hour_sales >= hour_sales.mean().mean()]\n",
    "hour_sales2.dropna(axis = 1, how = 'all', inplace = True) # 18시, 19시에 모두 nan인 경우의 컬럼만 제거\n",
    "hour_sales2.fillna(0, inplace = True) # nan값은 0으로 채우기\n",
    "hour_sales2 = hour_sales2.astype(int) # float형을 int형으로 변환\n",
    "hour_sales2"
   ]
  },
  {
   "cell_type": "code",
   "execution_count": 38,
   "id": "8d0540c7",
   "metadata": {},
   "outputs": [
    {
     "data": {
      "image/png": "[encoded data removed]",
      "text/plain": [
       "<Figure size 2000x600 with 2 Axes>"
      ]
     },
     "metadata": {},
     "output_type": "display_data"
    }
   ],
   "source": [
    "# 시각화\n",
    "plt.figure(figsize=(20, 6))\n",
    "sns.heatmap(hour_sales2, annot=True, cmap='YlGnBu', fmt='d')\n",
    "plt.title('18시와 19시에 판매된 상품')\n",
    "plt.xlabel('상품명')\n",
    "plt.ylabel('시간')\n",
    "plt.xticks(rotation=45)\n",
    "plt.show()"
   ]
  },
  {
   "cell_type": "code",
   "execution_count": 39,
   "id": "3323af96",
   "metadata": {},
   "outputs": [
    {
     "data": {
      "text/plain": [
       "김치볶음밥           1211\n",
       "라면               756\n",
       "짜장라면             457\n",
       "치즈불고기볶음밥         423\n",
       "계란추가             315\n",
       "                ... \n",
       "녹차(HOT)            1\n",
       "짜장라면(계란추가)         1\n",
       "이어폰(커널형)           1\n",
       "오늘은 한돈고추장불고기       1\n",
       "오늘은 한돈간장불고기        1\n",
       "Name: 상품명, Length: 100, dtype: int64"
      ]
     },
     "execution_count": 39,
     "metadata": {},
     "output_type": "execute_result"
    }
   ],
   "source": [
    "temp_var['상품명'].value_counts()"
   ]
  },
  {
   "cell_type": "markdown",
   "id": "7d76bb8a",
   "metadata": {},
   "source": [
    "김치볶음밥, 라면이 가장 많이 판매되고, 치즈불고기볶음밥, 짜장라면도 어느정도 판매가 되는 편이다.  \n",
    "시간대에 관계는 없지만, 계란 추가 수요도 꽤 높은 편이다.\n",
    "- 김치볶음밥에 만두 2p 또는 감자튀김를 추가한 세트 메뉴 개발 (감자튀김과 만두라면 수요가 적으니 감자튀김, 만두 재고를 여기서 활용)\n",
    "- 1, 2위인 김치볶음밥과 라면을 반반으로 조합한 반반 메뉴 개발\n",
    "- 계란추가 5회 채울 시 계란추가 1회 무료 제공(쿠폰 제작)을 하여 계란 추가 옵션 수요 늘리기  "
   ]
  },
  {
   "cell_type": "markdown",
   "id": "4bd3576c",
   "metadata": {},
   "source": [
    "#### ■ 무슨 시간대에 무슨 음료/디저트가 많이 팔릴까?"
   ]
  },
  {
   "cell_type": "markdown",
   "id": "f792db8e",
   "metadata": {},
   "source": [
    "item_data와 상품명을 기준으로 데이터를 병합하고, 분류 컬럼에서 '디저트'에 해당하는 데이터를 추출해서 시간대별 디저트 주문량을 확인해보자!!"
   ]
  },
  {
   "cell_type": "code",
   "execution_count": 40,
   "id": "f3084da6",
   "metadata": {},
   "outputs": [
    {
     "data": {
      "text/html": [
       "<div>\n",
       "<style scoped>\n",
       "    .dataframe tbody tr th:only-of-type {\n",
       "        vertical-align: middle;\n",
       "    }\n",
       "\n",
       "    .dataframe tbody tr th {\n",
       "        vertical-align: top;\n",
       "    }\n",
       "\n",
       "    .dataframe thead th {\n",
       "        text-align: right;\n",
       "    }\n",
       "</style>\n",
       "<table border=\"1\" class=\"dataframe\">\n",
       "  <thead>\n",
       "    <tr style=\"text-align: right;\">\n",
       "      <th></th>\n",
       "      <th>결제일시</th>\n",
       "      <th>판매위치</th>\n",
       "      <th>상품명</th>\n",
       "      <th>결제방식</th>\n",
       "      <th>비고</th>\n",
       "      <th>판매수량</th>\n",
       "      <th>결제금액</th>\n",
       "      <th>고객</th>\n",
       "      <th>time</th>\n",
       "    </tr>\n",
       "  </thead>\n",
       "  <tbody>\n",
       "    <tr>\n",
       "      <th>0</th>\n",
       "      <td>2022-04-01 19:41:00</td>\n",
       "      <td>선불기1</td>\n",
       "      <td>치킨카라아케 6pc</td>\n",
       "      <td>신용카드</td>\n",
       "      <td>결제완료</td>\n",
       "      <td>1</td>\n",
       "      <td>4500</td>\n",
       "      <td>customer275507</td>\n",
       "      <td>19</td>\n",
       "    </tr>\n",
       "    <tr>\n",
       "      <th>1</th>\n",
       "      <td>2022-04-01 19:41:00</td>\n",
       "      <td>선불기1</td>\n",
       "      <td>짜장라면(계란추가)</td>\n",
       "      <td>신용카드</td>\n",
       "      <td>결제완료</td>\n",
       "      <td>1</td>\n",
       "      <td>5500</td>\n",
       "      <td>customer275507</td>\n",
       "      <td>19</td>\n",
       "    </tr>\n",
       "  </tbody>\n",
       "</table>\n",
       "</div>"
      ],
      "text/plain": [
       "                 결제일시  판매위치         상품명  결제방식    비고  판매수량  결제금액  \\\n",
       "0 2022-04-01 19:41:00  선불기1  치킨카라아케 6pc  신용카드  결제완료     1  4500   \n",
       "1 2022-04-01 19:41:00  선불기1  짜장라면(계란추가)  신용카드  결제완료     1  5500   \n",
       "\n",
       "               고객  time  \n",
       "0  customer275507    19  \n",
       "1  customer275507    19  "
      ]
     },
     "execution_count": 40,
     "metadata": {},
     "output_type": "execute_result"
    }
   ],
   "source": [
    "temp_var.head(2)"
   ]
  },
  {
   "cell_type": "code",
   "execution_count": 41,
   "id": "d83aecbc",
   "metadata": {},
   "outputs": [
    {
     "data": {
      "text/html": [
       "<div>\n",
       "<style scoped>\n",
       "    .dataframe tbody tr th:only-of-type {\n",
       "        vertical-align: middle;\n",
       "    }\n",
       "\n",
       "    .dataframe tbody tr th {\n",
       "        vertical-align: top;\n",
       "    }\n",
       "\n",
       "    .dataframe thead th {\n",
       "        text-align: right;\n",
       "    }\n",
       "</style>\n",
       "<table border=\"1\" class=\"dataframe\">\n",
       "  <thead>\n",
       "    <tr style=\"text-align: right;\">\n",
       "      <th></th>\n",
       "      <th>구분</th>\n",
       "      <th>분류</th>\n",
       "      <th>상품명</th>\n",
       "      <th>판매금액</th>\n",
       "    </tr>\n",
       "  </thead>\n",
       "  <tbody>\n",
       "    <tr>\n",
       "      <th>0</th>\n",
       "      <td>1</td>\n",
       "      <td>게임&amp;TV</td>\n",
       "      <td>이어폰(커널형)</td>\n",
       "      <td>3,000원</td>\n",
       "    </tr>\n",
       "    <tr>\n",
       "      <th>1</th>\n",
       "      <td>2</td>\n",
       "      <td>디저트</td>\n",
       "      <td>초코머핀</td>\n",
       "      <td>3,500원</td>\n",
       "    </tr>\n",
       "  </tbody>\n",
       "</table>\n",
       "</div>"
      ],
      "text/plain": [
       "   구분     분류       상품명    판매금액\n",
       "0   1  게임&TV  이어폰(커널형)  3,000원\n",
       "1   2    디저트      초코머핀  3,500원"
      ]
     },
     "execution_count": 41,
     "metadata": {},
     "output_type": "execute_result"
    }
   ],
   "source": [
    "item_data.head(2)"
   ]
  },
  {
   "cell_type": "code",
   "execution_count": 42,
   "id": "23ed7ac9",
   "metadata": {},
   "outputs": [
    {
     "data": {
      "text/plain": [
       "(100, 98)"
      ]
     },
     "execution_count": 42,
     "metadata": {},
     "output_type": "execute_result"
    }
   ],
   "source": [
    "len(temp_var['상품명'].unique()), len(item_data['상품명'].unique())"
   ]
  },
  {
   "cell_type": "code",
   "execution_count": 43,
   "id": "f419d8c0",
   "metadata": {
    "scrolled": false
   },
   "outputs": [
    {
     "name": "stdout",
     "output_type": "stream",
     "text": [
      "데이터 크기:(24243, 12)\n"
     ]
    },
    {
     "data": {
      "text/html": [
       "<div>\n",
       "<style scoped>\n",
       "    .dataframe tbody tr th:only-of-type {\n",
       "        vertical-align: middle;\n",
       "    }\n",
       "\n",
       "    .dataframe tbody tr th {\n",
       "        vertical-align: top;\n",
       "    }\n",
       "\n",
       "    .dataframe thead th {\n",
       "        text-align: right;\n",
       "    }\n",
       "</style>\n",
       "<table border=\"1\" class=\"dataframe\">\n",
       "  <thead>\n",
       "    <tr style=\"text-align: right;\">\n",
       "      <th></th>\n",
       "      <th>결제일시</th>\n",
       "      <th>판매위치</th>\n",
       "      <th>상품명</th>\n",
       "      <th>결제방식</th>\n",
       "      <th>비고</th>\n",
       "      <th>판매수량</th>\n",
       "      <th>결제금액</th>\n",
       "      <th>고객</th>\n",
       "      <th>time</th>\n",
       "      <th>구분</th>\n",
       "      <th>분류</th>\n",
       "      <th>판매금액</th>\n",
       "    </tr>\n",
       "  </thead>\n",
       "  <tbody>\n",
       "    <tr>\n",
       "      <th>0</th>\n",
       "      <td>2022-04-01 19:41:00</td>\n",
       "      <td>선불기1</td>\n",
       "      <td>치킨카라아케 6pc</td>\n",
       "      <td>신용카드</td>\n",
       "      <td>결제완료</td>\n",
       "      <td>1</td>\n",
       "      <td>4500</td>\n",
       "      <td>customer275507</td>\n",
       "      <td>19</td>\n",
       "      <td>68.0</td>\n",
       "      <td>음식</td>\n",
       "      <td>4,500원</td>\n",
       "    </tr>\n",
       "    <tr>\n",
       "      <th>1</th>\n",
       "      <td>2022-04-01 19:41:00</td>\n",
       "      <td>선불기1</td>\n",
       "      <td>짜장라면(계란추가)</td>\n",
       "      <td>신용카드</td>\n",
       "      <td>결제완료</td>\n",
       "      <td>1</td>\n",
       "      <td>5500</td>\n",
       "      <td>customer275507</td>\n",
       "      <td>19</td>\n",
       "      <td>NaN</td>\n",
       "      <td>NaN</td>\n",
       "      <td>NaN</td>\n",
       "    </tr>\n",
       "  </tbody>\n",
       "</table>\n",
       "</div>"
      ],
      "text/plain": [
       "                 결제일시  판매위치         상품명  결제방식    비고  판매수량  결제금액  \\\n",
       "0 2022-04-01 19:41:00  선불기1  치킨카라아케 6pc  신용카드  결제완료     1  4500   \n",
       "1 2022-04-01 19:41:00  선불기1  짜장라면(계란추가)  신용카드  결제완료     1  5500   \n",
       "\n",
       "               고객  time    구분   분류    판매금액  \n",
       "0  customer275507    19  68.0   음식  4,500원  \n",
       "1  customer275507    19   NaN  NaN     NaN  "
      ]
     },
     "execution_count": 43,
     "metadata": {},
     "output_type": "execute_result"
    }
   ],
   "source": [
    "# 두 데이터 병합(기준: 상품명)\n",
    "merged_df = temp_var.merge(item_data, on='상품명', how='left')\n",
    "print(f'데이터 크기:{merged_df.shape}')\n",
    "merged_df.head(2)"
   ]
  },
  {
   "cell_type": "code",
   "execution_count": 44,
   "id": "a32b2702",
   "metadata": {},
   "outputs": [
    {
     "name": "stdout",
     "output_type": "stream",
     "text": [
      "분류 컬럼 결측치 개수: 2\n",
      "------------------------------\n",
      "음식            19171\n",
      "커피             2481\n",
      "차가운음료(커피외)     1214\n",
      "디저트             931\n",
      "스무디&쉐이크         310\n",
      "따뜻한음료(커피외)      129\n",
      "포장                4\n",
      "게임&TV             1\n",
      "Name: 분류, dtype: int64\n"
     ]
    }
   ],
   "source": [
    "a = merged_df['분류'].isna().sum()\n",
    "print(f'분류 컬럼 결측치 개수: {a}')\n",
    "print('-'*30)\n",
    "print(merged_df['분류'].value_counts())"
   ]
  },
  {
   "cell_type": "code",
   "execution_count": 45,
   "id": "fb91f5c0",
   "metadata": {},
   "outputs": [
    {
     "data": {
      "text/html": [
       "<div>\n",
       "<style scoped>\n",
       "    .dataframe tbody tr th:only-of-type {\n",
       "        vertical-align: middle;\n",
       "    }\n",
       "\n",
       "    .dataframe tbody tr th {\n",
       "        vertical-align: top;\n",
       "    }\n",
       "\n",
       "    .dataframe thead th {\n",
       "        text-align: right;\n",
       "    }\n",
       "</style>\n",
       "<table border=\"1\" class=\"dataframe\">\n",
       "  <thead>\n",
       "    <tr style=\"text-align: right;\">\n",
       "      <th></th>\n",
       "      <th>결제일시</th>\n",
       "      <th>판매위치</th>\n",
       "      <th>상품명</th>\n",
       "      <th>결제방식</th>\n",
       "      <th>비고</th>\n",
       "      <th>판매수량</th>\n",
       "      <th>결제금액</th>\n",
       "      <th>고객</th>\n",
       "      <th>time</th>\n",
       "      <th>구분</th>\n",
       "      <th>분류</th>\n",
       "      <th>판매금액</th>\n",
       "    </tr>\n",
       "  </thead>\n",
       "  <tbody>\n",
       "    <tr>\n",
       "      <th>13</th>\n",
       "      <td>2022-04-01 15:19:00</td>\n",
       "      <td>선불기1</td>\n",
       "      <td>아이스티</td>\n",
       "      <td>신용카드</td>\n",
       "      <td>결제완료</td>\n",
       "      <td>1</td>\n",
       "      <td>3900</td>\n",
       "      <td>customer630809</td>\n",
       "      <td>15</td>\n",
       "      <td>109.0</td>\n",
       "      <td>차가운음료(커피외)</td>\n",
       "      <td>3,500원</td>\n",
       "    </tr>\n",
       "    <tr>\n",
       "      <th>14</th>\n",
       "      <td>2022-04-01 15:19:00</td>\n",
       "      <td>선불기1</td>\n",
       "      <td>아이스티</td>\n",
       "      <td>신용카드</td>\n",
       "      <td>결제완료</td>\n",
       "      <td>1</td>\n",
       "      <td>3900</td>\n",
       "      <td>customer630809</td>\n",
       "      <td>15</td>\n",
       "      <td>128.0</td>\n",
       "      <td>차가운음료(커피외)</td>\n",
       "      <td>1,000원</td>\n",
       "    </tr>\n",
       "    <tr>\n",
       "      <th>15</th>\n",
       "      <td>2022-04-01 15:19:00</td>\n",
       "      <td>선불기1</td>\n",
       "      <td>아이스티</td>\n",
       "      <td>신용카드</td>\n",
       "      <td>결제완료</td>\n",
       "      <td>1</td>\n",
       "      <td>3900</td>\n",
       "      <td>customer630809</td>\n",
       "      <td>15</td>\n",
       "      <td>136.0</td>\n",
       "      <td>차가운음료(커피외)</td>\n",
       "      <td>3,900원</td>\n",
       "    </tr>\n",
       "    <tr>\n",
       "      <th>21</th>\n",
       "      <td>2022-04-01 12:03:00</td>\n",
       "      <td>선불기1</td>\n",
       "      <td>크로플</td>\n",
       "      <td>신용카드</td>\n",
       "      <td>결제완료</td>\n",
       "      <td>1</td>\n",
       "      <td>5500</td>\n",
       "      <td>customer977070</td>\n",
       "      <td>12</td>\n",
       "      <td>9.0</td>\n",
       "      <td>디저트</td>\n",
       "      <td>5,500원</td>\n",
       "    </tr>\n",
       "    <tr>\n",
       "      <th>28</th>\n",
       "      <td>2022-03-31 15:36:00</td>\n",
       "      <td>선불기1</td>\n",
       "      <td>쿠앤크쉐이크</td>\n",
       "      <td>신용카드</td>\n",
       "      <td>결제완료</td>\n",
       "      <td>1</td>\n",
       "      <td>5900</td>\n",
       "      <td>customer490619</td>\n",
       "      <td>15</td>\n",
       "      <td>32.0</td>\n",
       "      <td>스무디&amp;쉐이크</td>\n",
       "      <td>5,500원</td>\n",
       "    </tr>\n",
       "  </tbody>\n",
       "</table>\n",
       "</div>"
      ],
      "text/plain": [
       "                  결제일시  판매위치     상품명  결제방식    비고  판매수량  결제금액              고객  \\\n",
       "13 2022-04-01 15:19:00  선불기1    아이스티  신용카드  결제완료     1  3900  customer630809   \n",
       "14 2022-04-01 15:19:00  선불기1    아이스티  신용카드  결제완료     1  3900  customer630809   \n",
       "15 2022-04-01 15:19:00  선불기1    아이스티  신용카드  결제완료     1  3900  customer630809   \n",
       "21 2022-04-01 12:03:00  선불기1     크로플  신용카드  결제완료     1  5500  customer977070   \n",
       "28 2022-03-31 15:36:00  선불기1  쿠앤크쉐이크  신용카드  결제완료     1  5900  customer490619   \n",
       "\n",
       "    time     구분          분류    판매금액  \n",
       "13    15  109.0  차가운음료(커피외)  3,500원  \n",
       "14    15  128.0  차가운음료(커피외)  1,000원  \n",
       "15    15  136.0  차가운음료(커피외)  3,900원  \n",
       "21    12    9.0         디저트  5,500원  \n",
       "28    15   32.0     스무디&쉐이크  5,500원  "
      ]
     },
     "execution_count": 45,
     "metadata": {},
     "output_type": "execute_result"
    }
   ],
   "source": [
    "# 디저트나 음료에 해당하는 데이터만 추출\n",
    "desert_df = merged_df[(merged_df['분류'] == '커피') | (merged_df['분류'] == '차가운음료(커피외)') | \n",
    "          (merged_df['분류'] == '디저트') | (merged_df['분류'] == '스무디&쉐이크') | (merged_df['분류'] == '따뜻한음료(커피외)')]\n",
    "\n",
    "desert_df.head()"
   ]
  },
  {
   "cell_type": "code",
   "execution_count": 46,
   "id": "5b9227c4",
   "metadata": {},
   "outputs": [
    {
     "data": {
      "text/html": [
       "<div>\n",
       "<style scoped>\n",
       "    .dataframe tbody tr th:only-of-type {\n",
       "        vertical-align: middle;\n",
       "    }\n",
       "\n",
       "    .dataframe tbody tr th {\n",
       "        vertical-align: top;\n",
       "    }\n",
       "\n",
       "    .dataframe thead th {\n",
       "        text-align: right;\n",
       "    }\n",
       "</style>\n",
       "<table border=\"1\" class=\"dataframe\">\n",
       "  <thead>\n",
       "    <tr style=\"text-align: right;\">\n",
       "      <th>분류</th>\n",
       "      <th>time</th>\n",
       "      <th>디저트</th>\n",
       "      <th>따뜻한음료(커피외)</th>\n",
       "      <th>스무디&amp;쉐이크</th>\n",
       "      <th>차가운음료(커피외)</th>\n",
       "      <th>커피</th>\n",
       "      <th>total</th>\n",
       "    </tr>\n",
       "  </thead>\n",
       "  <tbody>\n",
       "    <tr>\n",
       "      <th>0</th>\n",
       "      <td>0</td>\n",
       "      <td>34</td>\n",
       "      <td>4</td>\n",
       "      <td>2</td>\n",
       "      <td>3</td>\n",
       "      <td>78</td>\n",
       "      <td>121</td>\n",
       "    </tr>\n",
       "    <tr>\n",
       "      <th>1</th>\n",
       "      <td>1</td>\n",
       "      <td>0</td>\n",
       "      <td>0</td>\n",
       "      <td>0</td>\n",
       "      <td>0</td>\n",
       "      <td>12</td>\n",
       "      <td>12</td>\n",
       "    </tr>\n",
       "    <tr>\n",
       "      <th>2</th>\n",
       "      <td>7</td>\n",
       "      <td>0</td>\n",
       "      <td>0</td>\n",
       "      <td>0</td>\n",
       "      <td>3</td>\n",
       "      <td>12</td>\n",
       "      <td>15</td>\n",
       "    </tr>\n",
       "    <tr>\n",
       "      <th>3</th>\n",
       "      <td>8</td>\n",
       "      <td>0</td>\n",
       "      <td>0</td>\n",
       "      <td>0</td>\n",
       "      <td>3</td>\n",
       "      <td>0</td>\n",
       "      <td>3</td>\n",
       "    </tr>\n",
       "    <tr>\n",
       "      <th>4</th>\n",
       "      <td>9</td>\n",
       "      <td>0</td>\n",
       "      <td>0</td>\n",
       "      <td>6</td>\n",
       "      <td>6</td>\n",
       "      <td>7</td>\n",
       "      <td>19</td>\n",
       "    </tr>\n",
       "  </tbody>\n",
       "</table>\n",
       "</div>"
      ],
      "text/plain": [
       "분류  time  디저트  따뜻한음료(커피외)  스무디&쉐이크  차가운음료(커피외)  커피  total\n",
       "0      0   34           4        2           3  78    121\n",
       "1      1    0           0        0           0  12     12\n",
       "2      7    0           0        0           3  12     15\n",
       "3      8    0           0        0           3   0      3\n",
       "4      9    0           0        6           6   7     19"
      ]
     },
     "execution_count": 46,
     "metadata": {},
     "output_type": "execute_result"
    }
   ],
   "source": [
    "# 시간대별 분류별 주문량 보기 위한 데이터 그룹화\n",
    "desert_all_time = desert_df.groupby(['time', '분류']).size().unstack(fill_value=0)\n",
    "desert_all_time['total'] = desert_all_time.sum(axis = 1)\n",
    "desert_all_time = desert_all_time.reset_index()\n",
    "desert_all_time.head()"
   ]
  },
  {
   "cell_type": "code",
   "execution_count": 47,
   "id": "ca6bb023",
   "metadata": {},
   "outputs": [
    {
     "data": {
      "image/png": "[encoded data removed]",
      "text/plain": [
       "<Figure size 1000x600 with 1 Axes>"
      ]
     },
     "metadata": {},
     "output_type": "display_data"
    }
   ],
   "source": [
    "# 집계 결과를 시각화하기\n",
    "plt.figure(figsize=(10, 6))\n",
    "sns.barplot(data = desert_all_time, x = 'time', y = 'total')\n",
    "\n",
    "plt.title('시간대별 음료/디저트 주문량')\n",
    "plt.xlabel('시간')\n",
    "plt.ylabel('주문량')\n",
    "\n",
    "plt.tight_layout()\n",
    "plt.show()"
   ]
  },
  {
   "cell_type": "markdown",
   "id": "24a7383b",
   "metadata": {},
   "source": [
    "14시 ~ 16시에 음료/디저트 주문량이 높다. 각 시간대별 가장 많이 팔린 상품을 분석해봐야겠다.  \n",
    "22시 이후로 음료/디저트 주문량이 급감한다. -> 야간권 요금제에 음료/디저트를 묶어서 판매하는 전략을 세운다."
   ]
  },
  {
   "cell_type": "code",
   "execution_count": 48,
   "id": "767a2bac",
   "metadata": {},
   "outputs": [
    {
     "data": {
      "text/html": [
       "<div>\n",
       "<style scoped>\n",
       "    .dataframe tbody tr th:only-of-type {\n",
       "        vertical-align: middle;\n",
       "    }\n",
       "\n",
       "    .dataframe tbody tr th {\n",
       "        vertical-align: top;\n",
       "    }\n",
       "\n",
       "    .dataframe thead th {\n",
       "        text-align: right;\n",
       "    }\n",
       "</style>\n",
       "<table border=\"1\" class=\"dataframe\">\n",
       "  <thead>\n",
       "    <tr style=\"text-align: right;\">\n",
       "      <th>분류</th>\n",
       "      <th>디저트</th>\n",
       "      <th>따뜻한음료(커피외)</th>\n",
       "      <th>스무디&amp;쉐이크</th>\n",
       "      <th>차가운음료(커피외)</th>\n",
       "      <th>커피</th>\n",
       "    </tr>\n",
       "    <tr>\n",
       "      <th>time</th>\n",
       "      <th></th>\n",
       "      <th></th>\n",
       "      <th></th>\n",
       "      <th></th>\n",
       "      <th></th>\n",
       "    </tr>\n",
       "  </thead>\n",
       "  <tbody>\n",
       "    <tr>\n",
       "      <th>14</th>\n",
       "      <td>59</td>\n",
       "      <td>13</td>\n",
       "      <td>21</td>\n",
       "      <td>86</td>\n",
       "      <td>248</td>\n",
       "    </tr>\n",
       "    <tr>\n",
       "      <th>15</th>\n",
       "      <td>98</td>\n",
       "      <td>13</td>\n",
       "      <td>38</td>\n",
       "      <td>145</td>\n",
       "      <td>277</td>\n",
       "    </tr>\n",
       "    <tr>\n",
       "      <th>16</th>\n",
       "      <td>118</td>\n",
       "      <td>10</td>\n",
       "      <td>44</td>\n",
       "      <td>154</td>\n",
       "      <td>148</td>\n",
       "    </tr>\n",
       "  </tbody>\n",
       "</table>\n",
       "</div>"
      ],
      "text/plain": [
       "분류    디저트  따뜻한음료(커피외)  스무디&쉐이크  차가운음료(커피외)   커피\n",
       "time                                           \n",
       "14     59          13       21          86  248\n",
       "15     98          13       38         145  277\n",
       "16    118          10       44         154  148"
      ]
     },
     "execution_count": 48,
     "metadata": {},
     "output_type": "execute_result"
    }
   ],
   "source": [
    "# time이 16, 15, 16에 해당하는 데이터 추출하고 데이터 그룹화\n",
    "desert1 = desert_df[(desert_df['time'] == 14) | (desert_df['time'] == 15) | (desert_df['time'] == 16)]\n",
    "desert_time = desert1.groupby(['time', '분류']).size().unstack(fill_value=0)\n",
    "desert_time"
   ]
  },
  {
   "cell_type": "code",
   "execution_count": 49,
   "id": "3fabab79",
   "metadata": {},
   "outputs": [
    {
     "data": {
      "image/png": "[encoded data removed]",
      "text/plain": [
       "<Figure size 1200x600 with 2 Axes>"
      ]
     },
     "metadata": {},
     "output_type": "display_data"
    }
   ],
   "source": [
    "# 시각화\n",
    "plt.figure(figsize=(12, 6))\n",
    "sns.heatmap(desert_time, annot=True, cmap='YlGnBu', fmt='d')\n",
    "plt.title('13시~15시에 판매된 상품')\n",
    "plt.xlabel('상품 분류명')\n",
    "plt.ylabel('시간')\n",
    "plt.xticks(rotation=45)\n",
    "plt.show()"
   ]
  },
  {
   "cell_type": "markdown",
   "id": "97da8a40",
   "metadata": {},
   "source": [
    "14시\\~15시에 커피 판매량이 높고, 15시\\~16시에 차가움음료(커피외)와 디저트 판매량이 증가한다.\n",
    "- 14-16시에 특별히 진행되는 이벤트로 디저트와 음료 세트 메뉴를 개발하여 디저트 판매량을 더 늘리는 전략을 구상\n",
    "- 스무디&쉐이크 수요를 조금 더 늘리기 위해 쿠폰을 제작해 몇 회 주문시 쿠키 제공 등과 같은 쿠폰 이벤트 구상"
   ]
  },
  {
   "cell_type": "markdown",
   "id": "e96fb35c",
   "metadata": {},
   "source": [
    "#### ■ 수요가 낮은 음식은 뭘까?"
   ]
  },
  {
   "cell_type": "code",
   "execution_count": 50,
   "id": "8b49504e",
   "metadata": {},
   "outputs": [
    {
     "data": {
      "text/html": [
       "<div>\n",
       "<style scoped>\n",
       "    .dataframe tbody tr th:only-of-type {\n",
       "        vertical-align: middle;\n",
       "    }\n",
       "\n",
       "    .dataframe tbody tr th {\n",
       "        vertical-align: top;\n",
       "    }\n",
       "\n",
       "    .dataframe thead th {\n",
       "        text-align: right;\n",
       "    }\n",
       "</style>\n",
       "<table border=\"1\" class=\"dataframe\">\n",
       "  <thead>\n",
       "    <tr style=\"text-align: right;\">\n",
       "      <th></th>\n",
       "      <th>상품명</th>\n",
       "      <th>판매량</th>\n",
       "    </tr>\n",
       "  </thead>\n",
       "  <tbody>\n",
       "    <tr>\n",
       "      <th>23</th>\n",
       "      <td>순살닭다리덮밥</td>\n",
       "      <td>15</td>\n",
       "    </tr>\n",
       "    <tr>\n",
       "      <th>24</th>\n",
       "      <td>2인불닭</td>\n",
       "      <td>14</td>\n",
       "    </tr>\n",
       "    <tr>\n",
       "      <th>25</th>\n",
       "      <td>버팔로윙 6pc</td>\n",
       "      <td>13</td>\n",
       "    </tr>\n",
       "    <tr>\n",
       "      <th>26</th>\n",
       "      <td>(면)계란추가-국물라면</td>\n",
       "      <td>10</td>\n",
       "    </tr>\n",
       "    <tr>\n",
       "      <th>27</th>\n",
       "      <td>버팔로윙 10pc</td>\n",
       "      <td>9</td>\n",
       "    </tr>\n",
       "    <tr>\n",
       "      <th>28</th>\n",
       "      <td>치킨카라아케 10pc</td>\n",
       "      <td>4</td>\n",
       "    </tr>\n",
       "    <tr>\n",
       "      <th>29</th>\n",
       "      <td>(밥)체다치즈추가</td>\n",
       "      <td>4</td>\n",
       "    </tr>\n",
       "    <tr>\n",
       "      <th>30</th>\n",
       "      <td>(밥)슈레드치즈추가</td>\n",
       "      <td>3</td>\n",
       "    </tr>\n",
       "    <tr>\n",
       "      <th>31</th>\n",
       "      <td>(밥)계란후라이 추가</td>\n",
       "      <td>3</td>\n",
       "    </tr>\n",
       "    <tr>\n",
       "      <th>32</th>\n",
       "      <td>비엔나소세지(토핑)</td>\n",
       "      <td>3</td>\n",
       "    </tr>\n",
       "  </tbody>\n",
       "</table>\n",
       "</div>"
      ],
      "text/plain": [
       "             상품명  판매량\n",
       "23       순살닭다리덮밥   15\n",
       "24          2인불닭   14\n",
       "25      버팔로윙 6pc   13\n",
       "26  (면)계란추가-국물라면   10\n",
       "27     버팔로윙 10pc    9\n",
       "28   치킨카라아케 10pc    4\n",
       "29     (밥)체다치즈추가    4\n",
       "30    (밥)슈레드치즈추가    3\n",
       "31   (밥)계란후라이 추가    3\n",
       "32    비엔나소세지(토핑)    3"
      ]
     },
     "execution_count": 50,
     "metadata": {},
     "output_type": "execute_result"
    }
   ],
   "source": [
    "# 집계 결과를 데이터프레임으로 변환하고, 하위 10개 선정하기\n",
    "sales_cnt2 = merged_df[merged_df['분류'] == '음식']\n",
    "sales_cnt3 = sales_cnt2[sales_cnt2['판매수량'] != -1]['상품명'].value_counts()\n",
    "sales_cnt_df2 = pd.DataFrame({'상품명': sales_cnt3.index, '판매량': sales_cnt3.values})\n",
    "items_count2 = sales_cnt_df2.tail(10)\n",
    "items_count2"
   ]
  },
  {
   "cell_type": "code",
   "execution_count": 51,
   "id": "87fb0501",
   "metadata": {},
   "outputs": [
    {
     "data": {
      "image/png": "[encoded data removed]",
      "text/plain": [
       "<Figure size 8000x1200 with 1 Axes>"
      ]
     },
     "metadata": {},
     "output_type": "display_data"
    }
   ],
   "source": [
    "# sales_cnt_df2 시각화(전체 상품 판매량)\n",
    "plt.figure(figsize=(80, 12))\n",
    "sns.barplot(x='상품명', y='판매량', data=sales_cnt_df2, palette=\"viridis\")\n",
    "\n",
    "plt.title('전체 상품 판매량', fontsize = 80)\n",
    "plt.xlabel('상품명', fontsize = 60)\n",
    "plt.ylabel('판매량', fontsize = 60)\n",
    "\n",
    "plt.show()"
   ]
  },
  {
   "cell_type": "code",
   "execution_count": 52,
   "id": "9e3f2495",
   "metadata": {},
   "outputs": [
    {
     "data": {
      "image/png": "[encoded data removed]",
      "text/plain": [
       "<Figure size 1200x600 with 1 Axes>"
      ]
     },
     "metadata": {},
     "output_type": "display_data"
    }
   ],
   "source": [
    "# items_count2 시각화(하위 10개 상품 판매량)\n",
    "plt.figure(figsize=(12, 6))\n",
    "sns.barplot(x='상품명', y='판매량', data=items_count2, palette=\"viridis\")\n",
    "\n",
    "plt.title('하위 10개 상품 판매량')\n",
    "plt.xlabel('상품명')\n",
    "plt.ylabel('판매량')\n",
    "plt.xticks(rotation = 45)\n",
    "\n",
    "plt.tight_layout()\n",
    "plt.show()"
   ]
  },
  {
   "cell_type": "code",
   "execution_count": 53,
   "id": "0bf23c80",
   "metadata": {},
   "outputs": [
    {
     "data": {
      "text/plain": [
       "['치즈추가',\n",
       " '계란추가',\n",
       " '(면)치즈추가',\n",
       " '(면)계란후라이 추가-불닭/짜장',\n",
       " '(면)계란추가-국물라면',\n",
       " '(밥)체다치즈추가',\n",
       " '(밥)슈레드치즈추가',\n",
       " '(밥)계란후라이 추가']"
      ]
     },
     "execution_count": 53,
     "metadata": {},
     "output_type": "execute_result"
    }
   ],
   "source": [
    "toping = [i for i in sales_cnt_df2['상품명'] if '추가' in i]\n",
    "toping"
   ]
  },
  {
   "cell_type": "markdown",
   "id": "9f6ac23b",
   "metadata": {},
   "source": [
    "- 메뉴가 너무 많고 복잡해서 필요없는 메뉴는 제거해도 될 것 같다.\n",
    "- 전체 상품 판매량을 시각화한 결과, 상위 11개 메뉴 외에는 수요가 높지 않다.\n",
    "- 토핑이 다양한 것 같은데 '계란추가'외 다른 토핑은 수요가 높지 않다. \n",
    "- 사이드 메뉴 중에서 인기가 없는 상품은 굳이 메뉴에 유지시킬 필요가 없을 것 같다.\n",
    "- 상위 10개 상품 판매량 시각화 결과, 10위인 감자튀김 메뉴도 200은 넘겼다. 판매량이 20도 안되는 메뉴를 굳이 유지시킬 필요가 없을 것 같다."
   ]
  },
  {
   "cell_type": "markdown",
   "id": "d90a7844",
   "metadata": {},
   "source": [
    "## 4. 전략 수립 및 실행"
   ]
  },
  {
   "cell_type": "markdown",
   "id": "f82478ee",
   "metadata": {},
   "source": [
    "**Summary**\n",
    "\n",
    "**1. 모두카페 현황**\n",
    "- 모두카페 회원권은 무제한(한국대생)이 약 65% 매출 비중을 차지하고 있으며, 무제한(일반)의 판매 비중은 약 35% 수준임.\n",
    "- 모두카페 식음료는 시간대 별로 많이 판매되는 상품의 차이를 보인다.\n",
    "- - 점심시간 이후: 음료 및 디저트\n",
    "- - 저녁시간에는 식사류\n",
    "\n",
    "\n",
    "**2. 회원권 분석**\n",
    "- 대부분의 이용권 매출은 무제한(한국대생)이므로, 사용자 대부분이 한국대 생으로 추정된다.\n",
    "- 무제한 이용권(일반 및 야간)의 매출이 전체 매출의 약 35% 정도 차지하고 있어 일반 사용자도 적지 않은 비중을 차지하고 있다.\n",
    "- 시간요금제(1시간, 3시간) 이용권은 전체 매출의 약 3%로 적은 비중을 보인다.\n",
    "\n",
    "**3. 식음료 분석**\n",
    "- 저녁식사 시간대인 18\\~19시의 판매액이 가장 높으며, 김치볶음밥, 라면, 짜장라면, 치즈불고기 순으로 상위 판매를 보임.\n",
    "- 음료 및 디저트는 식사시간 이후인 3\\~4시, 20\\~21시 사이에 높은 판매를 보이며, 특히 음료의 판매가 디저트보다 높음.\n",
    "\n",
    "**4. 제언사항**\n",
    "> <입장권>\n",
    "> - 시간 요금제 판매가 저조하므로 계속 시간 요금제를 유지할 경우, 식음료 판매 시간에 맞춰 별도의 콤보 요금제를 도입하는 것이 좋을 것으로 예상  \n",
    "> 예) 낮: 3시간이용권 + 커피 / 저녁: 3시간 이용권 + 김치볶음밥\n",
    "\n",
    "> <식음료>\n",
    "> - 식음료 매출이 식사류에 집중되고 있으며, 특히 상위 판매 중인 일부 메뉴에 집중되고 있으므로 판매 저조한 상품은 판매 중단하는 것이 필요해 보인다.\n",
    "> - 음료 및 디저트는 식사시간 이후에 판매가 증가하고 있어 식사류와 결합한 콤보 상품으로 음료 매출 증가를 유도하는 것이 필요해 보인다."
   ]
  },
  {
   "cell_type": "markdown",
   "id": "483f2503",
   "metadata": {},
   "source": [
    "## 회고 - 김새봄\n",
    "### 어려웠던 점 / 느낀점\n",
    "> - 파이썬 코드를 이용한 데이터 탐색은 평소 사용하던 엑셀보다 어렵게 느껴짐\n",
    "> - 데이터 탐색에 필요한 코드 연습이 필요해 보임.\n",
    "\n",
    "### 학습한 내용\n",
    "> - 시각화를 통한 데이터 분석 프로세스를 경험할 수 있었음.\n",
    "> - 분석 과정에서 제대로 된 데이터인지 여부를 확인하는 것이 중요하다는 것을 다시 한번 느낌."
   ]
  },
  {
   "cell_type": "markdown",
   "id": "583726c0",
   "metadata": {},
   "source": [
    "## 참고\n",
    "- 참고한 링크 없음"
   ]
  }
 ],
 "metadata": {
  "kernelspec": {
   "display_name": "Python 3 (ipykernel)",
   "language": "python",
   "name": "python3"
  },
  "language_info": {
   "codemirror_mode": {
    "name": "ipython",
    "version": 3
   },
   "file_extension": ".py",
   "mimetype": "text/x-python",
   "name": "python",
   "nbconvert_exporter": "python",
   "pygments_lexer": "ipython3",
   "version": "3.10.9"
  }
 },
 "nbformat": 4,
 "nbformat_minor": 5
}
